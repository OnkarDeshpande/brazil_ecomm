{
 "cells": [
  {
   "cell_type": "code",
   "execution_count": 1,
   "metadata": {},
   "outputs": [],
   "source": [
    "import pandas as pd\n",
    "import numpy as np\n",
    "\n",
    "import matplotlib.pyplot as plt\n",
    "import seaborn as sns\n",
    "\n",
    "import time\n",
    "import os\n",
    "\n",
    "import warnings\n",
    "warnings.filterwarnings('ignore')\n",
    "\n",
    "import utils\n",
    "\n",
    "import optuna\n",
    "import lightgbm as lgb\n",
    "\n",
    "from sklearn.model_selection import train_test_split, KFold\n",
    "from sklearn.metrics import mean_squared_error"
   ]
  },
  {
   "cell_type": "code",
   "execution_count": 2,
   "metadata": {},
   "outputs": [
    {
     "name": "stderr",
     "output_type": "stream",
     "text": [
      "\r",
      "  0%|          | 0/3 [00:00<?, ?it/s]\r",
      " 67%|██████▋   | 2/3 [00:00<00:00, 15.55it/s]\r",
      "100%|██████████| 3/3 [00:00<00:00, 15.22it/s]\n"
     ]
    }
   ],
   "source": [
    "feats_folder = '../data/processed/feature_level'\n",
    "df_dataset = utils.read_pickles(feats_folder)"
   ]
  },
  {
   "cell_type": "code",
   "execution_count": 4,
   "metadata": {},
   "outputs": [],
   "source": [
    "target = df_dataset.pop('target')"
   ]
  },
  {
   "cell_type": "markdown",
   "metadata": {},
   "source": [
    "## Drop id columns"
   ]
  },
  {
   "cell_type": "code",
   "execution_count": 20,
   "metadata": {},
   "outputs": [],
   "source": [
    "df_dataset.drop(['order_id','MODE(items.product_id)', 'MODE(items.seller_id)'], axis=1, inplace=True)"
   ]
  },
  {
   "cell_type": "markdown",
   "metadata": {},
   "source": [
    "## Trian test split"
   ]
  },
  {
   "cell_type": "code",
   "execution_count": 21,
   "metadata": {},
   "outputs": [],
   "source": [
    "x_train, x_test, y_train, y_test = train_test_split(df_dataset, target, test_size=0.33, random_state=42)"
   ]
  },
  {
   "cell_type": "code",
   "execution_count": null,
   "metadata": {},
   "outputs": [],
   "source": [
    "## function for optuna"
   ]
  },
  {
   "cell_type": "code",
   "execution_count": 15,
   "metadata": {},
   "outputs": [],
   "source": [
    "def model_lgb(params, cv_x, cv_y, fold_n = 3 ):\n",
    "\n",
    "    folds = KFold(n_splits=fold_n, shuffle=True, random_state=30)\n",
    "    oof = np.zeros(len(cv_x))\n",
    "    features = list(cv_x.columns)\n",
    "\n",
    "    for fold_, (train_index, valid_index) in enumerate(folds.split(cv_x, cv_y)):\n",
    "        print('Fold', fold_, 'started at', time.ctime())\n",
    "        X_train, X_valid = cv_x.iloc[train_index][features], cv_x.iloc[valid_index][features]\n",
    "        Y_train, Y_valid = cv_y.iloc[train_index], cv_y.iloc[valid_index]\n",
    "\n",
    "        train_data = lgb.Dataset(X_train, label=Y_train)\n",
    "        valid_data = lgb.Dataset(X_valid, label=Y_valid)\n",
    "\n",
    "        lgb_model = lgb.train(params, train_data, valid_sets = [train_data, valid_data],\n",
    "                               verbose_eval = 1000, early_stopping_rounds = 100)\n",
    "\n",
    "        oof[valid_index] = lgb_model.predict(cv_x.iloc[valid_index][features],\n",
    "                                             num_iteration = lgb_model.best_iteration)\n",
    "    return mean_squared_error(cv_y, oof)\n"
   ]
  },
  {
   "cell_type": "code",
   "execution_count": 23,
   "metadata": {},
   "outputs": [],
   "source": [
    "def objective(trial):\n",
    "    \n",
    "    param = { \n",
    "                'max_depth':          trial.suggest_int('max_depth', 1, 30),\n",
    "                \"subsample\" :         trial.suggest_loguniform('subsample', 0.0001, 1),\n",
    "                \"colsample_bytree\" :  trial.suggest_loguniform('colsample_bytree', 0.0001, 1),\n",
    "                \"reg_lambda\" :        trial.suggest_loguniform('reg_lambda', 1, 40),\n",
    "                \"n_estimators\" :      trial.suggest_int('n_estimators', 50, 2000),\n",
    "                'learning_rate':      trial.suggest_loguniform('learning_rate', 0.0001, 0.3),\n",
    "                'min_data_in_leaf':   trial.suggest_int('min_data_in_leaf', 1, 50),\n",
    "                \"metric\": 'rmse',            \n",
    "                \"verbosity\": -1,\n",
    "                'random_state' : 0,\n",
    "                \"num_threads\" :4,\n",
    "                'is_unbalance': True,\n",
    "                'objective':'regression',\n",
    "                \"boosting\":\"gbdt\"        \n",
    "                }\n",
    "\n",
    "    res = model_lgb(param, x_train, y_train, 3)\n",
    "    return res"
   ]
  },
  {
   "cell_type": "code",
   "execution_count": 24,
   "metadata": {},
   "outputs": [],
   "source": [
    "study = optuna.create_study()"
   ]
  },
  {
   "cell_type": "code",
   "execution_count": 25,
   "metadata": {},
   "outputs": [
    {
     "name": "stdout",
     "output_type": "stream",
     "text": [
      "Fold 0 started at Sat May  4 18:09:17 2019\n",
      "Training until validation scores don't improve for 100 rounds.\n",
      "[1000]\ttraining's rmse: 58.1382\tvalid_1's rmse: 103.28\n",
      "Did not meet early stopping. Best iteration is:\n",
      "[1402]\ttraining's rmse: 55.3577\tvalid_1's rmse: 101.868\n",
      "Fold 1 started at Sat May  4 18:09:20 2019\n",
      "Training until validation scores don't improve for 100 rounds.\n",
      "[1000]\ttraining's rmse: 70.613\tvalid_1's rmse: 54.4052\n",
      "Did not meet early stopping. Best iteration is:\n",
      "[1402]\ttraining's rmse: 68.1313\tvalid_1's rmse: 52.3947\n",
      "Fold 2 started at Sat May  4 18:09:24 2019\n",
      "Training until validation scores don't improve for 100 rounds.\n",
      "[1000]\ttraining's rmse: 71.7608\tvalid_1's rmse: 51.1318\n",
      "Did not meet early stopping. Best iteration is:\n",
      "[1402]\ttraining's rmse: 69.294\tvalid_1's rmse: 47.9688\n",
      "Fold 3 started at Sat May  4 18:09:30 2019\n",
      "Training until validation scores don't improve for 100 rounds.\n",
      "[1000]\ttraining's rmse: 67.3646\tvalid_1's rmse: 73.8379\n",
      "Did not meet early stopping. Best iteration is:\n",
      "[1402]\ttraining's rmse: 64.5174\tvalid_1's rmse: 71.8566\n",
      "Fold 4 started at Sat May  4 18:09:39 2019\n",
      "Training until validation scores don't improve for 100 rounds.\n",
      "[1000]\ttraining's rmse: 69.5583\tvalid_1's rmse: 60.7777\n",
      "Did not meet early stopping. Best iteration is:\n",
      "[1402]\ttraining's rmse: 67.0711\tvalid_1's rmse: 58.2033\n"
     ]
    },
    {
     "name": "stderr",
     "output_type": "stream",
     "text": [
      "[I 2019-05-04 18:09:45,436] Finished trial#0 resulted in value: 4794.858154036771. Current best value is 4794.858154036771 with parameters: {'max_depth': 2, 'subsample': 0.0008717997710858924, 'colsample_bytree': 0.00032330424624794365, 'reg_lambda': 7.255846322982719, 'n_estimators': 1402, 'learning_rate': 0.019893215025099907, 'min_data_in_leaf': 5}.\n"
     ]
    },
    {
     "name": "stdout",
     "output_type": "stream",
     "text": [
      "Fold 0 started at Sat May  4 18:09:45 2019\n",
      "Training until validation scores don't improve for 100 rounds.\n",
      "[1000]\ttraining's rmse: 217.439\tvalid_1's rmse: 229.163\n",
      "Did not meet early stopping. Best iteration is:\n",
      "[1832]\ttraining's rmse: 212.339\tvalid_1's rmse: 224.585\n",
      "Fold 1 started at Sat May  4 18:10:04 2019\n",
      "Training until validation scores don't improve for 100 rounds.\n",
      "[1000]\ttraining's rmse: 221.136\tvalid_1's rmse: 214.369\n",
      "Did not meet early stopping. Best iteration is:\n",
      "[1832]\ttraining's rmse: 216.172\tvalid_1's rmse: 209.132\n",
      "Fold 2 started at Sat May  4 18:10:23 2019\n",
      "Training until validation scores don't improve for 100 rounds.\n",
      "[1000]\ttraining's rmse: 220.978\tvalid_1's rmse: 215.235\n",
      "Did not meet early stopping. Best iteration is:\n",
      "[1832]\ttraining's rmse: 216.027\tvalid_1's rmse: 210.126\n",
      "Fold 3 started at Sat May  4 18:14:42 2019\n",
      "Training until validation scores don't improve for 100 rounds.\n",
      "[1000]\ttraining's rmse: 218.779\tvalid_1's rmse: 224.114\n",
      "Did not meet early stopping. Best iteration is:\n",
      "[1832]\ttraining's rmse: 213.807\tvalid_1's rmse: 219.145\n",
      "Fold 4 started at Sat May  4 18:14:56 2019\n",
      "Training until validation scores don't improve for 100 rounds.\n",
      "[1000]\ttraining's rmse: 220.757\tvalid_1's rmse: 216.026\n",
      "Did not meet early stopping. Best iteration is:\n",
      "[1832]\ttraining's rmse: 215.753\tvalid_1's rmse: 211.041\n"
     ]
    },
    {
     "name": "stderr",
     "output_type": "stream",
     "text": [
      "[I 2019-05-04 18:15:15,198] Finished trial#1 resulted in value: 46178.15598557276. Current best value is 4794.858154036771 with parameters: {'max_depth': 2, 'subsample': 0.0008717997710858924, 'colsample_bytree': 0.00032330424624794365, 'reg_lambda': 7.255846322982719, 'n_estimators': 1402, 'learning_rate': 0.019893215025099907, 'min_data_in_leaf': 5}.\n"
     ]
    },
    {
     "name": "stdout",
     "output_type": "stream",
     "text": [
      "Fold 0 started at Sat May  4 18:15:15 2019\n",
      "Training until validation scores don't improve for 100 rounds.\n",
      "Did not meet early stopping. Best iteration is:\n",
      "[400]\ttraining's rmse: 210.983\tvalid_1's rmse: 223.477\n",
      "Fold 1 started at Sat May  4 18:15:21 2019\n",
      "Training until validation scores don't improve for 100 rounds.\n",
      "Did not meet early stopping. Best iteration is:\n",
      "[400]\ttraining's rmse: 214.841\tvalid_1's rmse: 207.743\n",
      "Fold 2 started at Sat May  4 18:15:26 2019\n",
      "Training until validation scores don't improve for 100 rounds.\n",
      "Did not meet early stopping. Best iteration is:\n",
      "[400]\ttraining's rmse: 214.68\tvalid_1's rmse: 208.848\n",
      "Fold 3 started at Sat May  4 18:15:31 2019\n",
      "Training until validation scores don't improve for 100 rounds.\n",
      "Did not meet early stopping. Best iteration is:\n",
      "[400]\ttraining's rmse: 212.484\tvalid_1's rmse: 217.824\n",
      "Fold 4 started at Sat May  4 18:15:36 2019\n",
      "Training until validation scores don't improve for 100 rounds.\n",
      "Did not meet early stopping. Best iteration is:\n",
      "[400]\ttraining's rmse: 214.441\tvalid_1's rmse: 209.713\n"
     ]
    },
    {
     "name": "stderr",
     "output_type": "stream",
     "text": [
      "[I 2019-05-04 18:15:41,482] Finished trial#2 resulted in value: 45628.75650232704. Current best value is 4794.858154036771 with parameters: {'max_depth': 2, 'subsample': 0.0008717997710858924, 'colsample_bytree': 0.00032330424624794365, 'reg_lambda': 7.255846322982719, 'n_estimators': 1402, 'learning_rate': 0.019893215025099907, 'min_data_in_leaf': 5}.\n"
     ]
    },
    {
     "name": "stdout",
     "output_type": "stream",
     "text": [
      "Fold 0 started at Sat May  4 18:15:41 2019\n",
      "Training until validation scores don't improve for 100 rounds.\n",
      "[1000]\ttraining's rmse: 64.3952\tvalid_1's rmse: 107.098\n",
      "Did not meet early stopping. Best iteration is:\n",
      "[1407]\ttraining's rmse: 58.7312\tvalid_1's rmse: 103.809\n",
      "Fold 1 started at Sat May  4 18:15:46 2019\n",
      "Training until validation scores don't improve for 100 rounds.\n",
      "[1000]\ttraining's rmse: 77.4273\tvalid_1's rmse: 59.7627\n",
      "Did not meet early stopping. Best iteration is:\n",
      "[1407]\ttraining's rmse: 72.7166\tvalid_1's rmse: 55.2479\n",
      "Fold 2 started at Sat May  4 18:15:50 2019\n",
      "Training until validation scores don't improve for 100 rounds.\n",
      "[1000]\ttraining's rmse: 78.3866\tvalid_1's rmse: 58.0198\n",
      "Did not meet early stopping. Best iteration is:\n",
      "[1407]\ttraining's rmse: 73.7602\tvalid_1's rmse: 51.5575\n",
      "Fold 3 started at Sat May  4 18:15:55 2019\n",
      "Training until validation scores don't improve for 100 rounds.\n",
      "[1000]\ttraining's rmse: 74.8047\tvalid_1's rmse: 77.4529\n",
      "Did not meet early stopping. Best iteration is:\n",
      "[1407]\ttraining's rmse: 69.9729\tvalid_1's rmse: 72.1848\n",
      "Fold 4 started at Sat May  4 18:16:00 2019\n",
      "Training until validation scores don't improve for 100 rounds.\n",
      "[1000]\ttraining's rmse: 76.4635\tvalid_1's rmse: 66.7611\n",
      "Did not meet early stopping. Best iteration is:\n",
      "[1407]\ttraining's rmse: 71.7341\tvalid_1's rmse: 61.4779\n"
     ]
    },
    {
     "name": "stderr",
     "output_type": "stream",
     "text": [
      "[I 2019-05-04 18:16:05,281] Finished trial#3 resulted in value: 5095.393751541782. Current best value is 4794.858154036771 with parameters: {'max_depth': 2, 'subsample': 0.0008717997710858924, 'colsample_bytree': 0.00032330424624794365, 'reg_lambda': 7.255846322982719, 'n_estimators': 1402, 'learning_rate': 0.019893215025099907, 'min_data_in_leaf': 5}.\n"
     ]
    },
    {
     "name": "stdout",
     "output_type": "stream",
     "text": [
      "Fold 0 started at Sat May  4 18:16:05 2019\n",
      "Training until validation scores don't improve for 100 rounds.\n",
      "[1000]\ttraining's rmse: 113.085\tvalid_1's rmse: 141.134\n",
      "Did not meet early stopping. Best iteration is:\n",
      "[1917]\ttraining's rmse: 71.6268\tvalid_1's rmse: 111.905\n",
      "Fold 1 started at Sat May  4 18:16:46 2019\n",
      "Training until validation scores don't improve for 100 rounds.\n",
      "[1000]\ttraining's rmse: 121.277\tvalid_1's rmse: 106.33\n",
      "Did not meet early stopping. Best iteration is:\n",
      "[1917]\ttraining's rmse: 83.3391\tvalid_1's rmse: 65.0828\n",
      "Fold 2 started at Sat May  4 18:17:32 2019\n",
      "Training until validation scores don't improve for 100 rounds.\n",
      "[1000]\ttraining's rmse: 121.768\tvalid_1's rmse: 109.23\n",
      "Did not meet early stopping. Best iteration is:\n",
      "[1917]\ttraining's rmse: 84.103\tvalid_1's rmse: 66.8442\n",
      "Fold 3 started at Sat May  4 18:18:16 2019\n",
      "Training until validation scores don't improve for 100 rounds.\n",
      "[1000]\ttraining's rmse: 118.967\tvalid_1's rmse: 122.824\n",
      "Did not meet early stopping. Best iteration is:\n",
      "[1917]\ttraining's rmse: 81.1733\tvalid_1's rmse: 84.8191\n",
      "Fold 4 started at Sat May  4 18:18:55 2019\n",
      "Training until validation scores don't improve for 100 rounds.\n",
      "[1000]\ttraining's rmse: 120.527\tvalid_1's rmse: 113.846\n",
      "Did not meet early stopping. Best iteration is:\n",
      "[1917]\ttraining's rmse: 82.9334\tvalid_1's rmse: 73.7408\n"
     ]
    },
    {
     "name": "stderr",
     "output_type": "stream",
     "text": [
      "[I 2019-05-04 18:19:32,685] Finished trial#4 resulted in value: 6771.737926355323. Current best value is 4794.858154036771 with parameters: {'max_depth': 2, 'subsample': 0.0008717997710858924, 'colsample_bytree': 0.00032330424624794365, 'reg_lambda': 7.255846322982719, 'n_estimators': 1402, 'learning_rate': 0.019893215025099907, 'min_data_in_leaf': 5}.\n"
     ]
    },
    {
     "name": "stdout",
     "output_type": "stream",
     "text": [
      "Fold 0 started at Sat May  4 18:19:32 2019\n",
      "Training until validation scores don't improve for 100 rounds.\n",
      "Did not meet early stopping. Best iteration is:\n",
      "[663]\ttraining's rmse: 49.7931\tvalid_1's rmse: 100.103\n",
      "Fold 1 started at Sat May  4 18:19:38 2019\n",
      "Training until validation scores don't improve for 100 rounds.\n",
      "Early stopping, best iteration is:\n",
      "[221]\ttraining's rmse: 64.7759\tvalid_1's rmse: 52.8595\n",
      "Fold 2 started at Sat May  4 18:19:43 2019\n",
      "Training until validation scores don't improve for 100 rounds.\n",
      "Early stopping, best iteration is:\n",
      "[221]\ttraining's rmse: 65.682\tvalid_1's rmse: 48.9605\n",
      "Fold 3 started at Sat May  4 18:19:46 2019\n",
      "Training until validation scores don't improve for 100 rounds.\n",
      "Early stopping, best iteration is:\n",
      "[218]\ttraining's rmse: 62.3593\tvalid_1's rmse: 68.05\n",
      "Fold 4 started at Sat May  4 18:19:50 2019\n",
      "Training until validation scores don't improve for 100 rounds.\n",
      "Early stopping, best iteration is:\n",
      "[343]\ttraining's rmse: 62.1852\tvalid_1's rmse: 57.3645\n"
     ]
    },
    {
     "name": "stderr",
     "output_type": "stream",
     "text": [
      "[I 2019-05-04 18:19:54,846] Finished trial#5 resulted in value: 4626.675860967911. Current best value is 4626.675860967911 with parameters: {'max_depth': 15, 'subsample': 0.014656474645642736, 'colsample_bytree': 0.0022327205406746957, 'reg_lambda': 5.296089599945313, 'n_estimators': 663, 'learning_rate': 0.24291425772173952, 'min_data_in_leaf': 27}.\n"
     ]
    },
    {
     "name": "stdout",
     "output_type": "stream",
     "text": [
      "Fold 0 started at Sat May  4 18:19:54 2019\n",
      "Training until validation scores don't improve for 100 rounds.\n",
      "[1000]\ttraining's rmse: 187.598\tvalid_1's rmse: 202.585\n",
      "Did not meet early stopping. Best iteration is:\n",
      "[1230]\ttraining's rmse: 180.89\tvalid_1's rmse: 196.723\n",
      "Fold 1 started at Sat May  4 18:20:05 2019\n",
      "Training until validation scores don't improve for 100 rounds.\n",
      "[1000]\ttraining's rmse: 191.86\tvalid_1's rmse: 183.743\n",
      "Did not meet early stopping. Best iteration is:\n",
      "[1230]\ttraining's rmse: 185.311\tvalid_1's rmse: 176.869\n",
      "Fold 2 started at Sat May  4 18:20:18 2019\n",
      "Training until validation scores don't improve for 100 rounds.\n",
      "[1000]\ttraining's rmse: 191.769\tvalid_1's rmse: 185.349\n",
      "Did not meet early stopping. Best iteration is:\n",
      "[1230]\ttraining's rmse: 185.235\tvalid_1's rmse: 178.635\n",
      "Fold 3 started at Sat May  4 18:20:28 2019\n",
      "Training until validation scores don't improve for 100 rounds.\n",
      "[1000]\ttraining's rmse: 189.471\tvalid_1's rmse: 195.011\n",
      "Did not meet early stopping. Best iteration is:\n",
      "[1230]\ttraining's rmse: 182.914\tvalid_1's rmse: 188.489\n",
      "Fold 4 started at Sat May  4 18:20:37 2019\n",
      "Training until validation scores don't improve for 100 rounds.\n",
      "[1000]\ttraining's rmse: 191.326\tvalid_1's rmse: 186.978\n",
      "Did not meet early stopping. Best iteration is:\n",
      "[1230]\ttraining's rmse: 184.749\tvalid_1's rmse: 180.444\n"
     ]
    },
    {
     "name": "stderr",
     "output_type": "stream",
     "text": [
      "[I 2019-05-04 18:20:47,293] Finished trial#6 resulted in value: 33996.20437645029. Current best value is 4626.675860967911 with parameters: {'max_depth': 15, 'subsample': 0.014656474645642736, 'colsample_bytree': 0.0022327205406746957, 'reg_lambda': 5.296089599945313, 'n_estimators': 663, 'learning_rate': 0.24291425772173952, 'min_data_in_leaf': 27}.\n"
     ]
    },
    {
     "name": "stdout",
     "output_type": "stream",
     "text": [
      "Fold 0 started at Sat May  4 18:20:47 2019\n",
      "Training until validation scores don't improve for 100 rounds.\n",
      "Did not meet early stopping. Best iteration is:\n",
      "[917]\ttraining's rmse: 204.218\tvalid_1's rmse: 217.464\n",
      "Fold 1 started at Sat May  4 18:20:59 2019\n",
      "Training until validation scores don't improve for 100 rounds.\n",
      "Did not meet early stopping. Best iteration is:\n",
      "[917]\ttraining's rmse: 208.222\tvalid_1's rmse: 200.795\n",
      "Fold 2 started at Sat May  4 18:21:10 2019\n",
      "Training until validation scores don't improve for 100 rounds.\n",
      "Did not meet early stopping. Best iteration is:\n",
      "[917]\ttraining's rmse: 208.085\tvalid_1's rmse: 202.023\n",
      "Fold 3 started at Sat May  4 18:21:22 2019\n",
      "Training until validation scores don't improve for 100 rounds.\n",
      "Did not meet early stopping. Best iteration is:\n",
      "[917]\ttraining's rmse: 205.865\tvalid_1's rmse: 211.217\n",
      "Fold 4 started at Sat May  4 18:21:34 2019\n",
      "Training until validation scores don't improve for 100 rounds.\n",
      "Did not meet early stopping. Best iteration is:\n",
      "[917]\ttraining's rmse: 207.791\tvalid_1's rmse: 203.082\n"
     ]
    },
    {
     "name": "stderr",
     "output_type": "stream",
     "text": [
      "[I 2019-05-04 18:21:45,260] Finished trial#7 resulted in value: 42855.47470901608. Current best value is 4626.675860967911 with parameters: {'max_depth': 15, 'subsample': 0.014656474645642736, 'colsample_bytree': 0.0022327205406746957, 'reg_lambda': 5.296089599945313, 'n_estimators': 663, 'learning_rate': 0.24291425772173952, 'min_data_in_leaf': 27}.\n"
     ]
    },
    {
     "name": "stdout",
     "output_type": "stream",
     "text": [
      "Fold 0 started at Sat May  4 18:21:45 2019\n",
      "Training until validation scores don't improve for 100 rounds.\n",
      "Did not meet early stopping. Best iteration is:\n",
      "[71]\ttraining's rmse: 180.637\tvalid_1's rmse: 196.993\n",
      "Fold 1 started at Sat May  4 18:21:47 2019\n",
      "Training until validation scores don't improve for 100 rounds.\n",
      "Did not meet early stopping. Best iteration is:\n",
      "[71]\ttraining's rmse: 185.091\tvalid_1's rmse: 176.763\n",
      "Fold 2 started at Sat May  4 18:21:49 2019\n",
      "Training until validation scores don't improve for 100 rounds.\n",
      "Did not meet early stopping. Best iteration is:\n",
      "[71]\ttraining's rmse: 184.987\tvalid_1's rmse: 178.748\n",
      "Fold 3 started at Sat May  4 18:21:51 2019\n",
      "Training until validation scores don't improve for 100 rounds.\n",
      "Did not meet early stopping. Best iteration is:\n",
      "[71]\ttraining's rmse: 182.758\tvalid_1's rmse: 188.328\n",
      "Fold 4 started at Sat May  4 18:21:53 2019\n",
      "Training until validation scores don't improve for 100 rounds.\n",
      "Did not meet early stopping. Best iteration is:\n",
      "[71]\ttraining's rmse: 184.591\tvalid_1's rmse: 180.499\n"
     ]
    },
    {
     "name": "stderr",
     "output_type": "stream",
     "text": [
      "[I 2019-05-04 18:21:56,145] Finished trial#8 resulted in value: 34009.870974566395. Current best value is 4626.675860967911 with parameters: {'max_depth': 15, 'subsample': 0.014656474645642736, 'colsample_bytree': 0.0022327205406746957, 'reg_lambda': 5.296089599945313, 'n_estimators': 663, 'learning_rate': 0.24291425772173952, 'min_data_in_leaf': 27}.\n"
     ]
    },
    {
     "name": "stdout",
     "output_type": "stream",
     "text": [
      "Fold 0 started at Sat May  4 18:21:56 2019\n",
      "Training until validation scores don't improve for 100 rounds.\n",
      "[1000]\ttraining's rmse: 29.8913\tvalid_1's rmse: 94.0531\n",
      "Did not meet early stopping. Best iteration is:\n",
      "[1942]\ttraining's rmse: 19.1917\tvalid_1's rmse: 91.0378\n",
      "Fold 1 started at Sat May  4 18:22:29 2019\n",
      "Training until validation scores don't improve for 100 rounds.\n",
      "Early stopping, best iteration is:\n",
      "[602]\ttraining's rmse: 53.0446\tvalid_1's rmse: 46.4382\n",
      "Fold 2 started at Sat May  4 18:22:44 2019\n",
      "Training until validation scores don't improve for 100 rounds.\n",
      "Early stopping, best iteration is:\n",
      "[819]\ttraining's rmse: 48.9954\tvalid_1's rmse: 43.7433\n",
      "Fold 3 started at Sat May  4 18:23:06 2019\n",
      "Training until validation scores don't improve for 100 rounds.\n",
      "Early stopping, best iteration is:\n",
      "[594]\ttraining's rmse: 51.6797\tvalid_1's rmse: 65.6109\n",
      "Fold 4 started at Sat May  4 18:23:23 2019\n",
      "Training until validation scores don't improve for 100 rounds.\n",
      "Early stopping, best iteration is:\n",
      "[811]\ttraining's rmse: 48.7647\tvalid_1's rmse: 49.8974\n"
     ]
    },
    {
     "name": "stderr",
     "output_type": "stream",
     "text": [
      "[I 2019-05-04 18:23:42,687] Finished trial#9 resulted in value: 3830.478552591553. Current best value is 3830.478552591553 with parameters: {'max_depth': 17, 'subsample': 0.47222612110523327, 'colsample_bytree': 0.24624414445553958, 'reg_lambda': 3.287121000996276, 'n_estimators': 1942, 'learning_rate': 0.006696272560649142, 'min_data_in_leaf': 17}.\n"
     ]
    },
    {
     "name": "stdout",
     "output_type": "stream",
     "text": [
      "Fold 0 started at Sat May  4 18:23:42 2019\n",
      "Training until validation scores don't improve for 100 rounds.\n",
      "[1000]\ttraining's rmse: 13.3476\tvalid_1's rmse: 86.5056\n",
      "Did not meet early stopping. Best iteration is:\n",
      "[1748]\ttraining's rmse: 7.00425\tvalid_1's rmse: 84.7895\n",
      "Fold 1 started at Sat May  4 18:24:40 2019\n",
      "Training until validation scores don't improve for 100 rounds.\n",
      "Early stopping, best iteration is:\n",
      "[52]\ttraining's rmse: 62.0445\tvalid_1's rmse: 46.9117\n",
      "Fold 2 started at Sat May  4 18:24:46 2019\n",
      "Training until validation scores don't improve for 100 rounds.\n",
      "Early stopping, best iteration is:\n",
      "[49]\ttraining's rmse: 63.3704\tvalid_1's rmse: 42.0903\n",
      "Fold 3 started at Sat May  4 18:24:55 2019\n",
      "Training until validation scores don't improve for 100 rounds.\n",
      "Early stopping, best iteration is:\n",
      "[258]\ttraining's rmse: 46.659\tvalid_1's rmse: 63.5044\n",
      "Fold 4 started at Sat May  4 18:25:12 2019\n",
      "Training until validation scores don't improve for 100 rounds.\n",
      "Early stopping, best iteration is:\n",
      "[42]\ttraining's rmse: 62.8624\tvalid_1's rmse: 52.5242\n"
     ]
    },
    {
     "name": "stderr",
     "output_type": "stream",
     "text": [
      "[I 2019-05-04 18:25:23,617] Finished trial#10 resulted in value: 3590.631558749682. Current best value is 3590.631558749682 with parameters: {'max_depth': 28, 'subsample': 0.7761465640224046, 'colsample_bytree': 0.8060445205222828, 'reg_lambda': 32.00456948327807, 'n_estimators': 1748, 'learning_rate': 0.10637827542229136, 'min_data_in_leaf': 50}.\n"
     ]
    },
    {
     "name": "stdout",
     "output_type": "stream",
     "text": [
      "Fold 0 started at Sat May  4 18:25:23 2019\n",
      "Training until validation scores don't improve for 100 rounds.\n",
      "[1000]\ttraining's rmse: 4.64508\tvalid_1's rmse: 84.8648\n",
      "Did not meet early stopping. Best iteration is:\n",
      "[1641]\ttraining's rmse: 1.83036\tvalid_1's rmse: 84.0804\n",
      "Fold 1 started at Sat May  4 18:26:19 2019\n",
      "Training until validation scores don't improve for 100 rounds.\n",
      "Early stopping, best iteration is:\n",
      "[14]\ttraining's rmse: 66.1035\tvalid_1's rmse: 47.7644\n",
      "Fold 2 started at Sat May  4 18:26:27 2019\n",
      "Training until validation scores don't improve for 100 rounds.\n",
      "Early stopping, best iteration is:\n",
      "[22]\ttraining's rmse: 63.8988\tvalid_1's rmse: 41.0695\n",
      "Fold 3 started at Sat May  4 18:26:35 2019\n",
      "Training until validation scores don't improve for 100 rounds.\n",
      "Early stopping, best iteration is:\n",
      "[63]\ttraining's rmse: 53.1749\tvalid_1's rmse: 63.7224\n",
      "Fold 4 started at Sat May  4 18:26:45 2019\n",
      "Training until validation scores don't improve for 100 rounds.\n",
      "Early stopping, best iteration is:\n",
      "[25]\ttraining's rmse: 61.0588\tvalid_1's rmse: 52.2547\n"
     ]
    },
    {
     "name": "stderr",
     "output_type": "stream",
     "text": [
      "[I 2019-05-04 18:26:52,537] Finished trial#11 resulted in value: 3565.7500534001188. Current best value is 3565.7500534001188 with parameters: {'max_depth': 30, 'subsample': 0.8035235591094531, 'colsample_bytree': 0.8321132479695705, 'reg_lambda': 35.28948491558843, 'n_estimators': 1641, 'learning_rate': 0.23519972138142264, 'min_data_in_leaf': 49}.\n"
     ]
    },
    {
     "name": "stdout",
     "output_type": "stream",
     "text": [
      "Fold 0 started at Sat May  4 18:26:52 2019\n",
      "Training until validation scores don't improve for 100 rounds.\n",
      "[1000]\ttraining's rmse: 17.4549\tvalid_1's rmse: 89.9418\n",
      "Did not meet early stopping. Best iteration is:\n",
      "[1554]\ttraining's rmse: 11.9114\tvalid_1's rmse: 87.6667\n",
      "Fold 1 started at Sat May  4 18:28:03 2019\n",
      "Training until validation scores don't improve for 100 rounds.\n",
      "Early stopping, best iteration is:\n",
      "[87]\ttraining's rmse: 61.4206\tvalid_1's rmse: 47.0035\n",
      "Fold 2 started at Sat May  4 18:28:12 2019\n",
      "Training until validation scores don't improve for 100 rounds.\n",
      "Early stopping, best iteration is:\n",
      "[86]\ttraining's rmse: 62.5368\tvalid_1's rmse: 42.1612\n",
      "Fold 3 started at Sat May  4 18:28:21 2019\n",
      "Training until validation scores don't improve for 100 rounds.\n",
      "Early stopping, best iteration is:\n",
      "[266]\ttraining's rmse: 50.7752\tvalid_1's rmse: 63.8682\n",
      "Fold 4 started at Sat May  4 18:28:39 2019\n",
      "Training until validation scores don't improve for 100 rounds.\n",
      "Early stopping, best iteration is:\n",
      "[144]\ttraining's rmse: 57.2837\tvalid_1's rmse: 52.279\n"
     ]
    },
    {
     "name": "stderr",
     "output_type": "stream",
     "text": [
      "[I 2019-05-04 18:28:53,367] Finished trial#12 resulted in value: 3696.917029414797. Current best value is 3565.7500534001188 with parameters: {'max_depth': 30, 'subsample': 0.8035235591094531, 'colsample_bytree': 0.8321132479695705, 'reg_lambda': 35.28948491558843, 'n_estimators': 1641, 'learning_rate': 0.23519972138142264, 'min_data_in_leaf': 49}.\n"
     ]
    },
    {
     "name": "stdout",
     "output_type": "stream",
     "text": [
      "Fold 0 started at Sat May  4 18:28:53 2019\n",
      "Training until validation scores don't improve for 100 rounds.\n",
      "[1000]\ttraining's rmse: 22.0865\tvalid_1's rmse: 89.0747\n",
      "Did not meet early stopping. Best iteration is:\n",
      "[1006]\ttraining's rmse: 21.9816\tvalid_1's rmse: 89.0414\n",
      "Fold 1 started at Sat May  4 18:29:08 2019\n",
      "Training until validation scores don't improve for 100 rounds.\n",
      "Early stopping, best iteration is:\n",
      "[80]\ttraining's rmse: 64.8396\tvalid_1's rmse: 48.5311\n",
      "Fold 2 started at Sat May  4 18:29:13 2019\n",
      "Training until validation scores don't improve for 100 rounds.\n",
      "Early stopping, best iteration is:\n",
      "[114]\ttraining's rmse: 62.4964\tvalid_1's rmse: 43.628\n",
      "Fold 3 started at Sat May  4 18:29:18 2019\n",
      "Training until validation scores don't improve for 100 rounds.\n",
      "Early stopping, best iteration is:\n",
      "[332]\ttraining's rmse: 51.1551\tvalid_1's rmse: 64.4114\n",
      "Fold 4 started at Sat May  4 18:29:26 2019\n",
      "Training until validation scores don't improve for 100 rounds.\n",
      "Early stopping, best iteration is:\n",
      "[155]\ttraining's rmse: 59.4732\tvalid_1's rmse: 52.7694\n"
     ]
    },
    {
     "name": "stderr",
     "output_type": "stream",
     "text": [
      "[I 2019-05-04 18:29:32,365] Finished trial#13 resulted in value: 3824.095562224567. Current best value is 3565.7500534001188 with parameters: {'max_depth': 30, 'subsample': 0.8035235591094531, 'colsample_bytree': 0.8321132479695705, 'reg_lambda': 35.28948491558843, 'n_estimators': 1641, 'learning_rate': 0.23519972138142264, 'min_data_in_leaf': 49}.\n"
     ]
    },
    {
     "name": "stdout",
     "output_type": "stream",
     "text": [
      "Fold 0 started at Sat May  4 18:29:32 2019\n",
      "Training until validation scores don't improve for 100 rounds.\n",
      "[1000]\ttraining's rmse: 48.6531\tvalid_1's rmse: 99.9529\n",
      "Did not meet early stopping. Best iteration is:\n",
      "[1576]\ttraining's rmse: 47.4101\tvalid_1's rmse: 99.4929\n",
      "Fold 1 started at Sat May  4 18:29:47 2019\n",
      "Training until validation scores don't improve for 100 rounds.\n",
      "Early stopping, best iteration is:\n",
      "[245]\ttraining's rmse: 64.9056\tvalid_1's rmse: 51.9794\n",
      "Fold 2 started at Sat May  4 18:29:52 2019\n",
      "Training until validation scores don't improve for 100 rounds.\n",
      "Early stopping, best iteration is:\n",
      "[205]\ttraining's rmse: 66.3281\tvalid_1's rmse: 48.8341\n",
      "Fold 3 started at Sat May  4 18:29:57 2019\n",
      "Training until validation scores don't improve for 100 rounds.\n",
      "Early stopping, best iteration is:\n",
      "[218]\ttraining's rmse: 62.7512\tvalid_1's rmse: 67.8381\n",
      "Fold 4 started at Sat May  4 18:30:01 2019\n",
      "Training until validation scores don't improve for 100 rounds.\n",
      "Early stopping, best iteration is:\n",
      "[379]\ttraining's rmse: 62.4414\tvalid_1's rmse: 57.3794\n"
     ]
    },
    {
     "name": "stderr",
     "output_type": "stream",
     "text": [
      "[I 2019-05-04 18:30:06,928] Finished trial#14 resulted in value: 4575.972708379004. Current best value is 3565.7500534001188 with parameters: {'max_depth': 30, 'subsample': 0.8035235591094531, 'colsample_bytree': 0.8321132479695705, 'reg_lambda': 35.28948491558843, 'n_estimators': 1641, 'learning_rate': 0.23519972138142264, 'min_data_in_leaf': 49}.\n"
     ]
    },
    {
     "name": "stdout",
     "output_type": "stream",
     "text": [
      "Fold 0 started at Sat May  4 18:30:06 2019\n",
      "Training until validation scores don't improve for 100 rounds.\n",
      "Did not meet early stopping. Best iteration is:\n",
      "[674]\ttraining's rmse: 110.638\tvalid_1's rmse: 139.271\n",
      "Fold 1 started at Sat May  4 18:30:17 2019\n",
      "Training until validation scores don't improve for 100 rounds.\n",
      "Did not meet early stopping. Best iteration is:\n",
      "[674]\ttraining's rmse: 119.012\tvalid_1's rmse: 103.638\n",
      "Fold 2 started at Sat May  4 18:30:27 2019\n",
      "Training until validation scores don't improve for 100 rounds.\n",
      "Did not meet early stopping. Best iteration is:\n",
      "[674]\ttraining's rmse: 119.324\tvalid_1's rmse: 106.894\n",
      "Fold 3 started at Sat May  4 18:30:38 2019\n",
      "Training until validation scores don't improve for 100 rounds.\n",
      "Did not meet early stopping. Best iteration is:\n",
      "[674]\ttraining's rmse: 116.654\tvalid_1's rmse: 120.892\n",
      "Fold 4 started at Sat May  4 18:30:48 2019\n",
      "Training until validation scores don't improve for 100 rounds.\n",
      "Did not meet early stopping. Best iteration is:\n",
      "[674]\ttraining's rmse: 118.125\tvalid_1's rmse: 111.3\n"
     ]
    },
    {
     "name": "stderr",
     "output_type": "stream",
     "text": [
      "[I 2019-05-04 18:30:58,655] Finished trial#15 resulted in value: 13713.205370663787. Current best value is 3565.7500534001188 with parameters: {'max_depth': 30, 'subsample': 0.8035235591094531, 'colsample_bytree': 0.8321132479695705, 'reg_lambda': 35.28948491558843, 'n_estimators': 1641, 'learning_rate': 0.23519972138142264, 'min_data_in_leaf': 49}.\n"
     ]
    },
    {
     "name": "stdout",
     "output_type": "stream",
     "text": [
      "Fold 0 started at Sat May  4 18:30:58 2019\n",
      "Training until validation scores don't improve for 100 rounds.\n",
      "[1000]\ttraining's rmse: 146.543\tvalid_1's rmse: 167.502\n",
      "Did not meet early stopping. Best iteration is:\n",
      "[1212]\ttraining's rmse: 136.453\tvalid_1's rmse: 159.226\n",
      "Fold 1 started at Sat May  4 18:31:08 2019\n",
      "Training until validation scores don't improve for 100 rounds.\n",
      "[1000]\ttraining's rmse: 152.59\tvalid_1's rmse: 141.375\n",
      "Did not meet early stopping. Best iteration is:\n",
      "[1212]\ttraining's rmse: 142.97\tvalid_1's rmse: 130.992\n",
      "Fold 2 started at Sat May  4 18:31:19 2019\n",
      "Training until validation scores don't improve for 100 rounds.\n",
      "[1000]\ttraining's rmse: 152.569\tvalid_1's rmse: 143.926\n",
      "Did not meet early stopping. Best iteration is:\n",
      "[1212]\ttraining's rmse: 142.994\tvalid_1's rmse: 133.734\n",
      "Fold 3 started at Sat May  4 18:31:30 2019\n",
      "Training until validation scores don't improve for 100 rounds.\n",
      "[1000]\ttraining's rmse: 150.063\tvalid_1's rmse: 155.349\n",
      "Did not meet early stopping. Best iteration is:\n",
      "[1212]\ttraining's rmse: 140.424\tvalid_1's rmse: 145.64\n",
      "Fold 4 started at Sat May  4 18:31:41 2019\n",
      "Training until validation scores don't improve for 100 rounds.\n",
      "[1000]\ttraining's rmse: 151.758\tvalid_1's rmse: 146.973\n",
      "Did not meet early stopping. Best iteration is:\n",
      "[1212]\ttraining's rmse: 142.089\tvalid_1's rmse: 137.181\n"
     ]
    },
    {
     "name": "stderr",
     "output_type": "stream",
     "text": [
      "[I 2019-05-04 18:31:55,075] Finished trial#16 resulted in value: 20085.2857465901. Current best value is 3565.7500534001188 with parameters: {'max_depth': 30, 'subsample': 0.8035235591094531, 'colsample_bytree': 0.8321132479695705, 'reg_lambda': 35.28948491558843, 'n_estimators': 1641, 'learning_rate': 0.23519972138142264, 'min_data_in_leaf': 49}.\n"
     ]
    },
    {
     "name": "stdout",
     "output_type": "stream",
     "text": [
      "Fold 0 started at Sat May  4 18:31:55 2019\n",
      "Training until validation scores don't improve for 100 rounds.\n",
      "[1000]\ttraining's rmse: 13.5794\tvalid_1's rmse: 87.8501\n",
      "Did not meet early stopping. Best iteration is:\n",
      "[1730]\ttraining's rmse: 7.42786\tvalid_1's rmse: 86.154\n",
      "Fold 1 started at Sat May  4 18:33:36 2019\n",
      "Training until validation scores don't improve for 100 rounds.\n",
      "Early stopping, best iteration is:\n",
      "[36]\ttraining's rmse: 64.9328\tvalid_1's rmse: 47.0866\n",
      "Fold 2 started at Sat May  4 18:33:47 2019\n",
      "Training until validation scores don't improve for 100 rounds.\n",
      "Early stopping, best iteration is:\n",
      "[55]\ttraining's rmse: 62.8548\tvalid_1's rmse: 41.8262\n",
      "Fold 3 started at Sat May  4 18:34:01 2019\n",
      "Training until validation scores don't improve for 100 rounds.\n",
      "Early stopping, best iteration is:\n",
      "[204]\ttraining's rmse: 49.7478\tvalid_1's rmse: 63.6054\n",
      "Fold 4 started at Sat May  4 18:34:29 2019\n",
      "Training until validation scores don't improve for 100 rounds.\n",
      "Early stopping, best iteration is:\n",
      "[78]\ttraining's rmse: 59.2472\tvalid_1's rmse: 52.6009\n"
     ]
    },
    {
     "name": "stderr",
     "output_type": "stream",
     "text": [
      "[I 2019-05-04 18:34:44,531] Finished trial#17 resulted in value: 3640.3172760712173. Current best value is 3565.7500534001188 with parameters: {'max_depth': 30, 'subsample': 0.8035235591094531, 'colsample_bytree': 0.8321132479695705, 'reg_lambda': 35.28948491558843, 'n_estimators': 1641, 'learning_rate': 0.23519972138142264, 'min_data_in_leaf': 49}.\n"
     ]
    },
    {
     "name": "stdout",
     "output_type": "stream",
     "text": [
      "Fold 0 started at Sat May  4 18:34:44 2019\n",
      "Training until validation scores don't improve for 100 rounds.\n",
      "[1000]\ttraining's rmse: 1.51463\tvalid_1's rmse: 85.4562\n",
      "Did not meet early stopping. Best iteration is:\n",
      "[1726]\ttraining's rmse: 0.381207\tvalid_1's rmse: 85.0952\n",
      "Fold 1 started at Sat May  4 18:36:25 2019\n",
      "Training until validation scores don't improve for 100 rounds.\n",
      "Early stopping, best iteration is:\n",
      "[30]\ttraining's rmse: 58.4969\tvalid_1's rmse: 46.8791\n",
      "Fold 2 started at Sat May  4 18:36:35 2019\n",
      "Training until validation scores don't improve for 100 rounds.\n",
      "Early stopping, best iteration is:\n",
      "[17]\ttraining's rmse: 63.3083\tvalid_1's rmse: 42.5279\n",
      "Fold 3 started at Sat May  4 18:36:42 2019\n",
      "Training until validation scores don't improve for 100 rounds.\n",
      "Early stopping, best iteration is:\n",
      "[57]\ttraining's rmse: 50.9125\tvalid_1's rmse: 63.1483\n",
      "Fold 4 started at Sat May  4 18:36:52 2019\n",
      "Training until validation scores don't improve for 100 rounds.\n",
      "Early stopping, best iteration is:\n",
      "[49]\ttraining's rmse: 52.9355\tvalid_1's rmse: 52.1194\n"
     ]
    },
    {
     "name": "stderr",
     "output_type": "stream",
     "text": [
      "[I 2019-05-04 18:37:01,452] Finished trial#18 resulted in value: 3590.324670226734. Current best value is 3565.7500534001188 with parameters: {'max_depth': 30, 'subsample': 0.8035235591094531, 'colsample_bytree': 0.8321132479695705, 'reg_lambda': 35.28948491558843, 'n_estimators': 1641, 'learning_rate': 0.23519972138142264, 'min_data_in_leaf': 49}.\n"
     ]
    },
    {
     "name": "stdout",
     "output_type": "stream",
     "text": [
      "Fold 0 started at Sat May  4 18:37:01 2019\n",
      "Training until validation scores don't improve for 100 rounds.\n",
      "[1000]\ttraining's rmse: 1.68478\tvalid_1's rmse: 86.1656\n",
      "Did not meet early stopping. Best iteration is:\n",
      "[1585]\ttraining's rmse: 0.571535\tvalid_1's rmse: 85.8125\n",
      "Fold 1 started at Sat May  4 18:37:45 2019\n",
      "Training until validation scores don't improve for 100 rounds.\n",
      "Early stopping, best iteration is:\n",
      "[83]\ttraining's rmse: 46.4615\tvalid_1's rmse: 47.471\n",
      "Fold 2 started at Sat May  4 18:37:51 2019\n",
      "Training until validation scores don't improve for 100 rounds.\n",
      "Early stopping, best iteration is:\n",
      "[22]\ttraining's rmse: 61.2954\tvalid_1's rmse: 42.7876\n",
      "Fold 3 started at Sat May  4 18:37:57 2019\n",
      "Training until validation scores don't improve for 100 rounds.\n",
      "Early stopping, best iteration is:\n",
      "[19]\ttraining's rmse: 59.39\tvalid_1's rmse: 64.5176\n",
      "Fold 4 started at Sat May  4 18:38:04 2019\n",
      "Training until validation scores don't improve for 100 rounds.\n",
      "Early stopping, best iteration is:\n",
      "[52]\ttraining's rmse: 51.8551\tvalid_1's rmse: 52.565\n"
     ]
    },
    {
     "name": "stderr",
     "output_type": "stream",
     "text": [
      "[I 2019-05-04 18:38:13,521] Finished trial#19 resulted in value: 3674.7355174619665. Current best value is 3565.7500534001188 with parameters: {'max_depth': 30, 'subsample': 0.8035235591094531, 'colsample_bytree': 0.8321132479695705, 'reg_lambda': 35.28948491558843, 'n_estimators': 1641, 'learning_rate': 0.23519972138142264, 'min_data_in_leaf': 49}.\n"
     ]
    },
    {
     "name": "stdout",
     "output_type": "stream",
     "text": [
      "Number of finished trials: 20\n",
      "Best trial:\n",
      "Value: 3565.7500534001188\n",
      "Params: \n",
      "max_depth: 30\n",
      "subsample: 0.8035235591094531\n",
      "colsample_bytree: 0.8321132479695705\n",
      "reg_lambda: 35.28948491558843\n",
      "n_estimators: 1641\n",
      "learning_rate: 0.23519972138142264\n",
      "min_data_in_leaf: 49\n",
      "time taken: 28.940214518706004\n"
     ]
    }
   ],
   "source": [
    "start = time.time()\n",
    "study.optimize(objective, n_trials = 20)\n",
    "\n",
    "print('Number of finished trials: {}'.format(len(study.trials)))\n",
    "print('Best trial:')\n",
    "\n",
    "trial = study.best_trial\n",
    "\n",
    "print('Value: {}'.format(trial.value))\n",
    "print('Params: ')\n",
    "\n",
    "for key, value in trial.params.items():\n",
    "    print('{}: {}'.format(key, value))\n",
    "\n",
    "finish = time.time()\n",
    "\n",
    "print(\"time taken:\",(finish-start)/60)"
   ]
  },
  {
   "cell_type": "markdown",
   "metadata": {},
   "source": [
    "## Final Model"
   ]
  },
  {
   "cell_type": "code",
   "execution_count": 27,
   "metadata": {},
   "outputs": [],
   "source": [
    "# Optuna best features\n",
    "# max_depth: 30\n",
    "# subsample: 0.8035235591094531\n",
    "# colsample_bytree: 0.8321132479695705\n",
    "# reg_lambda: 35.28948491558843\n",
    "# n_estimators: 1641\n",
    "# learning_rate: 0.23519972138142264\n",
    "# min_data_in_leaf: 49\n",
    "param = { \n",
    "                'max_depth':   30,\n",
    "                \"subsample\" :  0.8,\n",
    "                \"colsample_bytree\" : 0.8,\n",
    "                \"reg_lambda\" :   35,\n",
    "                \"n_estimators\" :  1600,\n",
    "                'learning_rate':  0.23,\n",
    "                'min_data_in_leaf':   49,\n",
    "                \"metric\": 'rmse',            \n",
    "                \"verbosity\": -1,\n",
    "                'random_state' : 0,\n",
    "                \"num_threads\" :4,\n",
    "                'is_unbalance': True,\n",
    "                'objective':'regression',\n",
    "                \"boosting\":\"gbdt\"        \n",
    "                }\n",
    "\n"
   ]
  },
  {
   "cell_type": "code",
   "execution_count": 29,
   "metadata": {},
   "outputs": [],
   "source": [
    "features = list(x_train.columns)\n",
    "\n",
    "train_data = lgb.Dataset(x_train[features], y_train)\n",
    "lgb_model = lgb.train(param, train_data, verbose_eval = 1000)\n",
    "\n",
    "feature_importance_df = pd.DataFrame()\n",
    "feature_importance_df[\"feature\"] = features\n",
    "feature_importance_df[\"importance\"] = lgb_model.feature_importance()"
   ]
  },
  {
   "cell_type": "markdown",
   "metadata": {},
   "source": [
    "## Save the model"
   ]
  },
  {
   "cell_type": "code",
   "execution_count": 30,
   "metadata": {},
   "outputs": [
    {
     "data": {
      "text/plain": [
       "<lightgbm.basic.Booster at 0x23223c986d8>"
      ]
     },
     "execution_count": 30,
     "metadata": {},
     "output_type": "execute_result"
    }
   ],
   "source": [
    "lgb_model.save_model('../results/lgb_optuna.20_ft.6.2_115feats_5.4.txt')"
   ]
  },
  {
   "cell_type": "markdown",
   "metadata": {},
   "source": [
    "## Performing on test set"
   ]
  },
  {
   "cell_type": "code",
   "execution_count": 33,
   "metadata": {},
   "outputs": [
    {
     "name": "stdout",
     "output_type": "stream",
     "text": [
      "2983.939684554294\n"
     ]
    }
   ],
   "source": [
    "y_pred = lgb_model.predict(x_test[features])\n",
    "print(mean_squared_error(y_test, y_pred))"
   ]
  },
  {
   "cell_type": "markdown",
   "metadata": {},
   "source": [
    "## Important features"
   ]
  },
  {
   "cell_type": "code",
   "execution_count": 39,
   "metadata": {},
   "outputs": [
    {
     "data": {
      "image/png": "[encoded data removed]",
      "text/plain": [
       "<Figure size 720x576 with 1 Axes>"
      ]
     },
     "metadata": {},
     "output_type": "display_data"
    }
   ],
   "source": [
    "cols = (feature_importance_df.sort_values(by=\"importance\", ascending=False)[:20]['feature'])\n",
    "best_features = feature_importance_df.loc[feature_importance_df.feature.isin(cols)]\n",
    "\n",
    "plt.figure(figsize=(10,8))\n",
    "sns.barplot(x=\"importance\", y=\"feature\", data=best_features.sort_values(by=\"importance\",ascending=False))\n",
    "plt.title('LightGBM Feature importance (top 20)')\n",
    "plt.tight_layout()\n",
    "plt.show()"
   ]
  },
  {
   "cell_type": "code",
   "execution_count": 49,
   "metadata": {},
   "outputs": [
    {
     "data": {
      "text/plain": [
       "6141"
      ]
     },
     "execution_count": 49,
     "metadata": {},
     "output_type": "execute_result"
    }
   ],
   "source": [
    "outfile = open('../results/ft.6.2_115feats_5.4.txt', 'w')\n",
    "outfile.write(\"\\n\".join(list(df_dataset.columns)))"
   ]
  },
  {
   "cell_type": "code",
   "execution_count": null,
   "metadata": {},
   "outputs": [],
   "source": []
  }
 ],
 "metadata": {
  "kernelspec": {
   "display_name": "Python 3",
   "language": "python",
   "name": "python3"
  },
  "language_info": {
   "codemirror_mode": {
    "name": "ipython",
    "version": 3
   },
   "file_extension": ".py",
   "mimetype": "text/x-python",
   "name": "python",
   "nbconvert_exporter": "python",
   "pygments_lexer": "ipython3",
   "version": "3.6.2"
  }
 },
 "nbformat": 4,
 "nbformat_minor": 2
}
