{
 "cells": [
  {
   "cell_type": "code",
   "execution_count": 1,
   "metadata": {},
   "outputs": [],
   "source": [
    "import pandas as pd\n",
    "import numpy as np\n",
    "\n",
    "import matplotlib.pyplot as plt\n",
    "import seaborn as sns\n",
    "\n",
    "import os\n",
    "\n",
    "from IPython.display import Image\n",
    "\n",
    "import warnings\n",
    "warnings.filterwarnings('ignore')\n",
    "\n",
    "import featuretools as ft\n",
    "\n",
    "import utils\n",
    "\n",
    "import lightgbm as lgb\n",
    "\n",
    "from sklearn.model_selection import train_test_split, KFold\n",
    "from sklearn.metrics import mean_squared_error\n",
    "\n",
    "import time\n",
    "\n",
    "import optuna"
   ]
  },
  {
   "cell_type": "code",
   "execution_count": 2,
   "metadata": {},
   "outputs": [
    {
     "name": "stdout",
     "output_type": "stream",
     "text": [
      "0 olist_customers_dataset.csv\n",
      "1 olist_geolocation_dataset.csv\n",
      "2 olist_orders_dataset.csv\n",
      "3 olist_order_items_dataset.csv\n",
      "4 olist_order_payments_dataset.csv\n",
      "5 olist_order_reviews_dataset.csv\n",
      "6 olist_products_dataset.csv\n",
      "7 olist_sellers_dataset.csv\n",
      "8 processed\n",
      "9 product_category_name_translation.csv\n"
     ]
    }
   ],
   "source": [
    "data_dir = '../data/'\n",
    "filenames = os.listdir(data_dir)\n",
    "for i, ele in enumerate(filenames):\n",
    "    print(i, ele)"
   ]
  },
  {
   "cell_type": "code",
   "execution_count": 3,
   "metadata": {},
   "outputs": [
    {
     "name": "stderr",
     "output_type": "stream",
     "text": [
      "\r",
      "  0%|          | 0/3 [00:00<?, ?it/s]\r",
      "100%|██████████| 3/3 [00:00<00:00, 52.64it/s]\n"
     ]
    }
   ],
   "source": [
    "df_customers = pd.read_csv(data_dir+filenames[0])\n",
    "df_orders = pd.read_csv(data_dir+filenames[2], parse_dates=['order_purchase_timestamp',\n",
    "                                                            'order_approved_at', \n",
    "                                                            'order_delivered_carrier_date',\n",
    "                                                            'order_delivered_customer_date',\n",
    "                                                            'order_estimated_delivery_date'])\n",
    "\n",
    "df_items = pd.read_csv(data_dir+filenames[3], parse_dates=['shipping_limit_date'])\n",
    "# df_payments = pd.read_csv(data_dir+filenames[4])\n",
    "df_payments = utils.read_pickles('../data/processed/payments')"
   ]
  },
  {
   "cell_type": "code",
   "execution_count": 4,
   "metadata": {},
   "outputs": [],
   "source": [
    "df_payments['payment_type_mode'] = df_payments['payment_type_mode'].astype('category').cat.codes.values\n",
    "df_orders['order_status'] = df_orders['order_status'].astype('category').cat.codes.values"
   ]
  },
  {
   "cell_type": "code",
   "execution_count": 5,
   "metadata": {},
   "outputs": [],
   "source": [
    "target = df_payments.pop('payment_value')"
   ]
  },
  {
   "cell_type": "code",
   "execution_count": 6,
   "metadata": {},
   "outputs": [
    {
     "data": {
      "text/plain": [
       "Entityset: order_val\n",
       "  Entities:\n",
       "    orders [Rows: 99441, Columns: 8]\n",
       "    items [Rows: 112650, Columns: 8]\n",
       "    payments [Rows: 99440, Columns: 6]\n",
       "  Relationships:\n",
       "    No relationships"
      ]
     },
     "execution_count": 6,
     "metadata": {},
     "output_type": "execute_result"
    }
   ],
   "source": [
    "# Create entityset\n",
    "entity_set = ft.EntitySet(id = 'order_val')\n",
    "\n",
    "# order entity\n",
    "entity_set = entity_set.entity_from_dataframe(\n",
    "    entity_id='orders',\n",
    "    dataframe=df_orders,\n",
    "    index='order_id',\n",
    "    variable_types = {'order_status': ft.variable_types.Categorical}\n",
    ")\n",
    "\n",
    "# item entity\n",
    "entity_set = entity_set.entity_from_dataframe(\n",
    "    entity_id='items',\n",
    "    dataframe=df_items,\n",
    "    make_index=True,\n",
    "    index = 'item_id',\n",
    "    time_index = 'shipping_limit_date'\n",
    ")\n",
    "\n",
    "# payments entity\n",
    "entity_set = entity_set.entity_from_dataframe(\n",
    "    entity_id='payments',\n",
    "    dataframe=df_payments,\n",
    "    index='order_id',\n",
    "    variable_types = {'payment_type_mode': ft.variable_types.Categorical}\n",
    ")\n",
    "\n",
    "entity_set"
   ]
  },
  {
   "cell_type": "code",
   "execution_count": 7,
   "metadata": {},
   "outputs": [
    {
     "data": {
      "text/plain": [
       "Entityset: order_val\n",
       "  Entities:\n",
       "    orders [Rows: 99441, Columns: 8]\n",
       "    items [Rows: 112650, Columns: 8]\n",
       "    payments [Rows: 99440, Columns: 6]\n",
       "  Relationships:\n",
       "    payments.order_id -> orders.order_id\n",
       "    items.order_id -> orders.order_id"
      ]
     },
     "execution_count": 7,
     "metadata": {},
     "output_type": "execute_result"
    }
   ],
   "source": [
    "# Create the relationships (parents-->child) (parent have one id child may have multiple parent ids)\n",
    "relationship_payments_orders = ft.Relationship(entity_set['orders']['order_id'],\n",
    "                                               entity_set['payments']['order_id'])\n",
    "\n",
    "relationship_items_orders = ft.Relationship(entity_set['orders']['order_id'],\n",
    "                                            entity_set['items']['order_id'])\n",
    "\n",
    "\n",
    "# Add the relationships to the entity set\n",
    "entity_set = entity_set.add_relationship(relationship_payments_orders)\n",
    "entity_set = entity_set.add_relationship(relationship_items_orders)\n",
    "\n",
    "# Check entity_set\n",
    "entity_set"
   ]
  },
  {
   "cell_type": "code",
   "execution_count": 9,
   "metadata": {},
   "outputs": [
    {
     "name": "stdout",
     "output_type": "stream",
     "text": [
      "Built 48 features\n",
      "\r",
      "Elapsed: 00:00 | Remaining: ? | Progress:   0%|          | Calculated: 0/10 chunks\r",
      "Elapsed: 00:00 | Remaining: 00:08 | Progress:  10%|█         | Calculated: 1/10 chunks\r",
      "Elapsed: 00:01 | Remaining: 00:06 | Progress:  20%|██        | Calculated: 2/10 chunks\r",
      "Elapsed: 00:02 | Remaining: 00:06 | Progress:  30%|███       | Calculated: 3/10 chunks\r",
      "Elapsed: 00:03 | Remaining: 00:05 | Progress:  40%|████      | Calculated: 4/10 chunks\r",
      "Elapsed: 00:04 | Remaining: 00:04 | Progress:  50%|█████     | Calculated: 5/10 chunks\r",
      "Elapsed: 00:04 | Remaining: 00:03 | Progress:  60%|██████    | Calculated: 6/10 chunks\r",
      "Elapsed: 00:05 | Remaining: 00:02 | Progress:  70%|███████   | Calculated: 7/10 chunks\r",
      "Elapsed: 00:06 | Remaining: 00:01 | Progress:  80%|████████  | Calculated: 8/10 chunks\r",
      "Elapsed: 00:06 | Remaining: 00:00 | Progress:  90%|█████████ | Calculated: 9/10 chunks\r",
      "Elapsed: 00:07 | Remaining: 00:00 | Progress: 100%|██████████| Calculated: 10/10 chunks\n"
     ]
    }
   ],
   "source": [
    "transformation_feats = [ 'year', 'month', 'weekday', 'subtract']\n",
    "aggregate_feats = ['mean', 'std']\n",
    "\n",
    "df_features, feature_names = ft.dfs(entityset = entity_set,\n",
    "                                      target_entity = \"payments\",\n",
    "                                      trans_primitives = transformation_feats,\n",
    "                                      agg_primitives = aggregate_feats,                  \n",
    "                                      max_depth = 2,\n",
    "                                      verbose = True)"
   ]
  },
  {
   "cell_type": "code",
   "execution_count": 10,
   "metadata": {},
   "outputs": [],
   "source": [
    "df_customers['customer_city'] = df_customers['customer_city'].astype('category').cat.codes\n",
    "df_customers['customer_state'] = df_customers['customer_state'].astype('category').cat.codes"
   ]
  },
  {
   "cell_type": "code",
   "execution_count": 11,
   "metadata": {},
   "outputs": [
    {
     "data": {
      "text/plain": [
       "Entityset: cust_relation\n",
       "  Entities:\n",
       "    features [Rows: 99440, Columns: 48]\n",
       "    customers [Rows: 99441, Columns: 5]\n",
       "  Relationships:\n",
       "    No relationships"
      ]
     },
     "execution_count": 11,
     "metadata": {},
     "output_type": "execute_result"
    }
   ],
   "source": [
    "# Create entityset\n",
    "cust_entity_set = ft.EntitySet(id = 'cust_relation')\n",
    "\n",
    "# customers entity\n",
    "entity_set = cust_entity_set.entity_from_dataframe(\n",
    "    entity_id = 'features',\n",
    "    dataframe = df_features,\n",
    "    index = 'orders.customer_id'\n",
    ")\n",
    "# customers entity\n",
    "entity_set = cust_entity_set.entity_from_dataframe(\n",
    "    entity_id = 'customers',\n",
    "    dataframe = df_customers,\n",
    "    index = 'customer_id'\n",
    ")\n",
    "\n",
    "cust_entity_set"
   ]
  },
  {
   "cell_type": "code",
   "execution_count": 12,
   "metadata": {},
   "outputs": [],
   "source": [
    "relationship_customer_orders = ft.Relationship(cust_entity_set['features']['orders.customer_id'],\n",
    "                                               cust_entity_set['customers']['customer_id'])\n",
    "\n",
    "entity_set = cust_entity_set.add_relationship(relationship_customer_orders)\n",
    "\n",
    "entity_set"
   ]
  },
  {
   "cell_type": "code",
   "execution_count": 13,
   "metadata": {},
   "outputs": [
    {
     "name": "stdout",
     "output_type": "stream",
     "text": [
      "Built 50 features\n",
      "\r",
      "Elapsed: 00:00 | Remaining: ? | Progress:   0%|          | Calculated: 0/10 chunks\r",
      "Elapsed: 00:00 | Remaining: 00:03 | Progress:  10%|█         | Calculated: 1/10 chunks\r",
      "Elapsed: 00:01 | Remaining: 00:04 | Progress:  20%|██        | Calculated: 2/10 chunks\r",
      "Elapsed: 00:01 | Remaining: 00:03 | Progress:  30%|███       | Calculated: 3/10 chunks\r",
      "Elapsed: 00:01 | Remaining: 00:02 | Progress:  40%|████      | Calculated: 4/10 chunks\r",
      "Elapsed: 00:02 | Remaining: 00:02 | Progress:  50%|█████     | Calculated: 5/10 chunks\r",
      "Elapsed: 00:02 | Remaining: 00:01 | Progress:  60%|██████    | Calculated: 6/10 chunks\r",
      "Elapsed: 00:03 | Remaining: 00:01 | Progress:  70%|███████   | Calculated: 7/10 chunks\r",
      "Elapsed: 00:03 | Remaining: 00:00 | Progress:  80%|████████  | Calculated: 8/10 chunks\r",
      "Elapsed: 00:03 | Remaining: 00:00 | Progress:  90%|█████████ | Calculated: 9/10 chunks\r",
      "Elapsed: 00:04 | Remaining: 00:00 | Progress: 100%|██████████| Calculated: 10/10 chunks\n"
     ]
    }
   ],
   "source": [
    "# df_features, feature_names = ft.dfs(entityset = cust_entity_set,\n",
    "#                                       target_entity = \"features\",\n",
    "#                                       trans_primitives = [],\n",
    "#                                       agg_primitives = ['mean'],                  \n",
    "#                                       max_depth = 2,\n",
    "#                                       verbose = True)"
   ]
  },
  {
   "cell_type": "code",
   "execution_count": null,
   "metadata": {},
   "outputs": [],
   "source": []
  },
  {
   "cell_type": "code",
   "execution_count": 15,
   "metadata": {},
   "outputs": [],
   "source": [
    "# df_features.drop('orders.customer_id', axis=1, inplace=True)\n",
    "\n",
    "x_train, x_test, y_train, y_test = train_test_split(df_features, target, test_size=0.33, random_state=42)"
   ]
  },
  {
   "cell_type": "code",
   "execution_count": 16,
   "metadata": {},
   "outputs": [],
   "source": [
    "param = {'num_leaves': 31,\n",
    "         'min_data_in_leaf': 32, \n",
    "         'objective':'regression',\n",
    "         'max_depth': -1,\n",
    "         'learning_rate': 0.005,\n",
    "         \"min_child_samples\": 20,\n",
    "         \"boosting\": \"gbdt\",\n",
    "         \"feature_fraction\": 0.9,\n",
    "         \"bagging_freq\": 1,\n",
    "         \"bagging_fraction\": 0.9 ,\n",
    "         \"bagging_seed\": 11,\n",
    "         \"metric\": 'rmse',\n",
    "         \"lambda_l1\": 0.1,\n",
    "         \"nthread\": 4,\n",
    "         \"verbosity\": -1}"
   ]
  },
  {
   "cell_type": "code",
   "execution_count": 17,
   "metadata": {},
   "outputs": [
    {
     "name": "stdout",
     "output_type": "stream",
     "text": [
      "fold n°0\n",
      "Training until validation scores don't improve for 200 rounds.\n",
      "[100]\ttraining's rmse: 217.142\tvalid_1's rmse: 241.119\n",
      "[200]\ttraining's rmse: 216.283\tvalid_1's rmse: 241.195\n",
      "Early stopping, best iteration is:\n",
      "[1]\ttraining's rmse: 218.163\tvalid_1's rmse: 241.061\n",
      "fold n°1\n",
      "Training until validation scores don't improve for 200 rounds.\n",
      "[100]\ttraining's rmse: 229.053\tvalid_1's rmse: 217.841\n",
      "[200]\ttraining's rmse: 228.208\tvalid_1's rmse: 217.866\n",
      "[300]\ttraining's rmse: 227.414\tvalid_1's rmse: 217.898\n",
      "Early stopping, best iteration is:\n",
      "[123]\ttraining's rmse: 228.842\tvalid_1's rmse: 217.838\n",
      "fold n°2\n",
      "Training until validation scores don't improve for 200 rounds.\n",
      "[100]\ttraining's rmse: 228.766\tvalid_1's rmse: 218.501\n",
      "[200]\ttraining's rmse: 227.903\tvalid_1's rmse: 218.52\n",
      "Early stopping, best iteration is:\n",
      "[53]\ttraining's rmse: 229.22\tvalid_1's rmse: 218.481\n",
      "CV score: 226.05134\n"
     ]
    }
   ],
   "source": [
    "folds = KFold(n_splits=3, shuffle=True, random_state=15)\n",
    "oof = np.zeros(len(x_train))\n",
    "predictions = np.zeros(len(x_test))\n",
    "start = time.time()\n",
    "feature_importance_df = pd.DataFrame()\n",
    "\n",
    "features = list(x_train.columns)\n",
    "\n",
    "for fold_, (trn_idx, val_idx) in enumerate(folds.split(x_train.values, y_train.values)):\n",
    "    print(\"fold n°{}\".format(fold_))\n",
    "    trn_data = lgb.Dataset(x_train.iloc[trn_idx][features], label=y_train.iloc[trn_idx])\n",
    "#                            , categorical_feature=categorical_feats)\n",
    "    val_data = lgb.Dataset(x_train.iloc[val_idx][features], label=y_train.iloc[val_idx])\n",
    "#                            , categorical_feature=categorical_feats)\n",
    "\n",
    "    num_round = 1000\n",
    "    clf = lgb.train(param, trn_data, num_round, valid_sets = [trn_data, val_data],\n",
    "                    verbose_eval=100, early_stopping_rounds = 200)\n",
    "    oof[val_idx] = clf.predict(x_train.iloc[val_idx][features], num_iteration=clf.best_iteration)\n",
    "    \n",
    "    fold_importance_df = pd.DataFrame()\n",
    "    fold_importance_df[\"feature\"] = features\n",
    "    fold_importance_df[\"importance\"] = clf.feature_importance()\n",
    "    fold_importance_df[\"fold\"] = fold_ + 1\n",
    "    feature_importance_df = pd.concat([feature_importance_df, fold_importance_df], axis=0)\n",
    "    \n",
    "    predictions += clf.predict(x_test[features], num_iteration=clf.best_iteration) / folds.n_splits\n",
    "\n",
    "print(\"CV score: {:<8.5f}\".format(mean_squared_error(oof, y_train)**0.5))"
   ]
  },
  {
   "cell_type": "code",
   "execution_count": 18,
   "metadata": {},
   "outputs": [
    {
     "data": {
      "image/png": "[encoded data removed]",
      "text/plain": [
       "<Figure size 720x576 with 1 Axes>"
      ]
     },
     "metadata": {},
     "output_type": "display_data"
    }
   ],
   "source": [
    "cols = (feature_importance_df[[\"feature\", \"importance\"]]\n",
    "        .groupby(\"feature\")\n",
    "        .mean()\n",
    "        .sort_values(by=\"importance\", ascending=False)[:20].index)\n",
    "\n",
    "best_features = feature_importance_df.loc[feature_importance_df.feature.isin(cols)]\n",
    "\n",
    "plt.figure(figsize=(10,8))\n",
    "sns.barplot(x=\"importance\", y=\"feature\", data=best_features.sort_values(by=\"importance\",ascending=False))\n",
    "plt.title('LightGBM Features (averaged over folds)')\n",
    "plt.tight_layout()\n",
    "plt.show()"
   ]
  },
  {
   "cell_type": "code",
   "execution_count": null,
   "metadata": {},
   "outputs": [],
   "source": []
  }
 ],
 "metadata": {
  "kernelspec": {
   "display_name": "Python 3",
   "language": "python",
   "name": "python3"
  },
  "language_info": {
   "codemirror_mode": {
    "name": "ipython",
    "version": 3
   },
   "file_extension": ".py",
   "mimetype": "text/x-python",
   "name": "python",
   "nbconvert_exporter": "python",
   "pygments_lexer": "ipython3",
   "version": "3.6.2"
  }
 },
 "nbformat": 4,
 "nbformat_minor": 2
}
