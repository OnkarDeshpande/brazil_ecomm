{
 "cells": [
  {
   "cell_type": "markdown",
   "metadata": {},
   "source": [
    "## Import libraries"
   ]
  },
  {
   "cell_type": "code",
   "execution_count": 1,
   "metadata": {},
   "outputs": [],
   "source": [
    "import pandas as pd\n",
    "import numpy as np\n",
    "\n",
    "import os\n",
    "\n",
    "import utils\n",
    "\n",
    "import warnings\n",
    "warnings.filterwarnings('ignore')"
   ]
  },
  {
   "cell_type": "code",
   "execution_count": 2,
   "metadata": {},
   "outputs": [
    {
     "name": "stdout",
     "output_type": "stream",
     "text": [
      "0 olist_customers_dataset.csv\n",
      "1 olist_geolocation_dataset.csv\n",
      "2 olist_orders_dataset.csv\n",
      "3 olist_order_items_dataset.csv\n",
      "4 olist_order_payments_dataset.csv\n",
      "5 olist_order_reviews_dataset.csv\n",
      "6 olist_products_dataset.csv\n",
      "7 olist_sellers_dataset.csv\n",
      "8 processed\n",
      "9 product_category_name_translation.csv\n"
     ]
    }
   ],
   "source": [
    "data_dir = '../data/'\n",
    "filenames = os.listdir(data_dir)\n",
    "for i, ele in enumerate(filenames):\n",
    "    print(i, ele)"
   ]
  },
  {
   "cell_type": "markdown",
   "metadata": {},
   "source": [
    "## Orders data\n",
    "\n",
    "* Read date time columns correctly, convert order_status to categorical variable and store the codes"
   ]
  },
  {
   "cell_type": "code",
   "execution_count": 3,
   "metadata": {},
   "outputs": [
    {
     "name": "stdout",
     "output_type": "stream",
     "text": [
      "Mem. usage decreased to  5.41 Mb (0.0% reduction)\n"
     ]
    }
   ],
   "source": [
    "df_orders = pd.read_csv(data_dir+filenames[2], parse_dates=['order_purchase_timestamp',\n",
    "                                                            'order_approved_at', \n",
    "                                                            'order_delivered_carrier_date',\n",
    "                                                            'order_delivered_customer_date',\n",
    "                                                            'order_estimated_delivery_date'])\n",
    "t = df_orders['order_status'].astype('category')\n",
    "df_orders['order_status'] = df_orders['order_status'].astype('category').cat.codes.values\n",
    "df_orders = utils.reduce_mem_usage(df_orders)"
   ]
  },
  {
   "cell_type": "code",
   "execution_count": 4,
   "metadata": {},
   "outputs": [
    {
     "data": {
      "text/plain": [
       "{'approved': 0,\n",
       " 'canceled': 1,\n",
       " 'created': 2,\n",
       " 'delivered': 3,\n",
       " 'invoiced': 4,\n",
       " 'processing': 5,\n",
       " 'shipped': 6,\n",
       " 'unavailable': 7}"
      ]
     },
     "execution_count": 4,
     "metadata": {},
     "output_type": "execute_result"
    }
   ],
   "source": [
    "dict(zip(t, t.cat.codes))"
   ]
  },
  {
   "cell_type": "code",
   "execution_count": 5,
   "metadata": {},
   "outputs": [
    {
     "name": "stderr",
     "output_type": "stream",
     "text": [
      "\r",
      "0it [00:00, ?it/s]\r",
      "1it [00:02,  2.12s/it]\r",
      "3it [00:02,  1.36it/s]\n"
     ]
    }
   ],
   "source": [
    "utils.to_pickles(df_orders, '../data/processed/orders')"
   ]
  },
  {
   "cell_type": "markdown",
   "metadata": {},
   "source": [
    "## Payments data\n",
    "\n",
    "* Store 'payment_type' as categorical variable"
   ]
  },
  {
   "cell_type": "code",
   "execution_count": 6,
   "metadata": {},
   "outputs": [
    {
     "name": "stdout",
     "output_type": "stream",
     "text": [
      "Mem. usage decreased to  1.29 Mb (60.6% reduction)\n"
     ]
    }
   ],
   "source": [
    "df_payments = pd.read_csv(data_dir+filenames[4])\n",
    "t = df_payments['payment_type'].astype('category')\n",
    "\n",
    "df_payments['payment_type'] = df_payments['payment_type'].astype('category').cat.codes.values\n",
    "\n",
    "df_payments = utils.reduce_mem_usage(df_payments)"
   ]
  },
  {
   "cell_type": "code",
   "execution_count": 7,
   "metadata": {},
   "outputs": [
    {
     "data": {
      "text/plain": [
       "{'boleto': 0,\n",
       " 'credit_card': 1,\n",
       " 'debit_card': 2,\n",
       " 'not_defined': 3,\n",
       " 'voucher': 4}"
      ]
     },
     "execution_count": 7,
     "metadata": {},
     "output_type": "execute_result"
    }
   ],
   "source": [
    "dict(zip(t, t.cat.codes))"
   ]
  },
  {
   "cell_type": "code",
   "execution_count": 8,
   "metadata": {},
   "outputs": [
    {
     "name": "stderr",
     "output_type": "stream",
     "text": [
      "\r",
      "0it [00:00, ?it/s]\r",
      "3it [00:00, 25.64it/s]\n"
     ]
    }
   ],
   "source": [
    "utils.to_pickles(df_payments, '../data/processed/payments')"
   ]
  },
  {
   "cell_type": "markdown",
   "metadata": {},
   "source": [
    "## Customers data\n",
    "\n",
    "* order_id from orders table is joined here, this is done purely to define relationship between the two datasets, while using FeatureTools\n",
    "* customers and seller data has state and city level information, both columns are similar and their categories are stored and reused again.\n"
   ]
  },
  {
   "cell_type": "code",
   "execution_count": 14,
   "metadata": {},
   "outputs": [
    {
     "name": "stdout",
     "output_type": "stream",
     "text": [
      "Mem. usage decreased to  3.70 Mb (9.3% reduction)\n"
     ]
    }
   ],
   "source": [
    "df_customers = pd.read_csv(data_dir+filenames[0])\n",
    "\n",
    "df_customers = df_customers.merge(df_orders[['order_id', 'customer_id']], on='customer_id')\n",
    "\n",
    "t = df_customers['customer_city'].astype('category')  ##store the cat codes, use it for seller info\n",
    "cust_city = dict(zip(t, t.cat.codes))\n",
    "\n",
    "t = df_customers['customer_state'].astype('category')  ##store the cat codes, use it for seller info\n",
    "cust_state = dict(zip(t, t.cat.codes))\n",
    "\n",
    "df_customers['customer_state'] = df_customers['customer_state'].astype('category').cat.codes.values\n",
    "df_customers['customer_city'] = df_customers['customer_city'].astype('category').cat.codes.values\n",
    "\n",
    "\n",
    "df_customers = utils.reduce_mem_usage(df_customers)"
   ]
  },
  {
   "cell_type": "code",
   "execution_count": 11,
   "metadata": {},
   "outputs": [],
   "source": [
    "import pickle"
   ]
  },
  {
   "cell_type": "code",
   "execution_count": 15,
   "metadata": {},
   "outputs": [],
   "source": [
    "cust_state_t =dict(zip( t.cat.codes, t))\n",
    "with open('../data/processed/cust_state.pickle', 'wb') as f:\n",
    "    pickle.dump(cust_state_t, f )"
   ]
  },
  {
   "cell_type": "code",
   "execution_count": 8,
   "metadata": {},
   "outputs": [
    {
     "name": "stderr",
     "output_type": "stream",
     "text": [
      "\r",
      "0it [00:00, ?it/s]\r",
      "1it [00:00,  5.06it/s]\r",
      "2it [00:00,  6.02it/s]\r",
      "3it [00:00,  6.42it/s]\n"
     ]
    }
   ],
   "source": [
    "utils.to_pickles(df_customers, '../data/processed/customers')"
   ]
  },
  {
   "cell_type": "markdown",
   "metadata": {},
   "source": [
    "## Products data\n",
    "\n",
    "* Product_category_name is stored as categorical data"
   ]
  },
  {
   "cell_type": "code",
   "execution_count": 11,
   "metadata": {},
   "outputs": [
    {
     "name": "stdout",
     "output_type": "stream",
     "text": [
      "Mem. usage decreased to  0.72 Mb (64.6% reduction)\n"
     ]
    }
   ],
   "source": [
    "df_products = pd.read_csv(data_dir+filenames[6])\n",
    "\n",
    "t = df_products['product_category_name'].astype('category')\n",
    "df_products['product_category_name'] = df_products['product_category_name'].astype('category').cat.codes\n",
    "\n",
    "df_products = utils.reduce_mem_usage(df_products)"
   ]
  },
  {
   "cell_type": "code",
   "execution_count": 12,
   "metadata": {},
   "outputs": [
    {
     "data": {
      "text/plain": [
       "{'perfumaria': 62,\n",
       " 'artes': 3,\n",
       " 'esporte_lazer': 32,\n",
       " 'bebes': 9,\n",
       " 'utilidades_domesticas': 72,\n",
       " 'instrumentos_musicais': 45,\n",
       " 'cool_stuff': 26,\n",
       " 'moveis_decoracao': 54,\n",
       " 'eletrodomesticos': 28,\n",
       " 'brinquedos': 12,\n",
       " 'cama_mesa_banho': 13,\n",
       " 'construcao_ferramentas_seguranca': 25,\n",
       " 'informatica_acessorios': 44,\n",
       " 'beleza_saude': 11,\n",
       " 'malas_acessorios': 50,\n",
       " 'ferramentas_jardim': 40,\n",
       " 'moveis_escritorio': 55,\n",
       " 'automotivo': 8,\n",
       " 'eletronicos': 30,\n",
       " 'fashion_calcados': 34,\n",
       " 'telefonia': 70,\n",
       " 'papelaria': 59,\n",
       " 'fashion_bolsas_e_acessorios': 33,\n",
       " 'pcs': 61,\n",
       " 'casa_construcao': 16,\n",
       " 'relogios_presentes': 66,\n",
       " 'construcao_ferramentas_construcao': 21,\n",
       " 'pet_shop': 63,\n",
       " 'eletroportateis': 31,\n",
       " 'agro_industria_e_comercio': 0,\n",
       " nan: -1,\n",
       " 'moveis_sala': 57,\n",
       " 'sinalizacao_e_seguranca': 68,\n",
       " 'climatizacao': 19,\n",
       " 'consoles_games': 20,\n",
       " 'livros_interesse_geral': 48,\n",
       " 'construcao_ferramentas_ferramentas': 22,\n",
       " 'fashion_underwear_e_moda_praia': 39,\n",
       " 'fashion_roupa_masculina': 38,\n",
       " 'moveis_cozinha_area_de_servico_jantar_e_jardim': 53,\n",
       " 'industria_comercio_e_negocios': 43,\n",
       " 'telefonia_fixa': 71,\n",
       " 'construcao_ferramentas_iluminacao': 23,\n",
       " 'livros_tecnicos': 49,\n",
       " 'eletrodomesticos_2': 29,\n",
       " 'artigos_de_festas': 5,\n",
       " 'bebidas': 10,\n",
       " 'market_place': 51,\n",
       " 'la_cuisine': 46,\n",
       " 'construcao_ferramentas_jardim': 24,\n",
       " 'fashion_roupa_feminina': 36,\n",
       " 'casa_conforto': 14,\n",
       " 'audio': 7,\n",
       " 'alimentos_bebidas': 2,\n",
       " 'musica': 58,\n",
       " 'alimentos': 1,\n",
       " 'tablets_impressao_imagem': 69,\n",
       " 'livros_importados': 47,\n",
       " 'portateis_casa_forno_e_cafe': 64,\n",
       " 'fashion_esporte': 35,\n",
       " 'artigos_de_natal': 6,\n",
       " 'fashion_roupa_infanto_juvenil': 37,\n",
       " 'dvds_blu_ray': 27,\n",
       " 'artes_e_artesanato': 4,\n",
       " 'pc_gamer': 60,\n",
       " 'moveis_quarto': 56,\n",
       " 'cine_foto': 18,\n",
       " 'fraldas_higiene': 42,\n",
       " 'flores': 41,\n",
       " 'casa_conforto_2': 15,\n",
       " 'portateis_cozinha_e_preparadores_de_alimentos': 65,\n",
       " 'seguros_e_servicos': 67,\n",
       " 'moveis_colchao_e_estofado': 52,\n",
       " 'cds_dvds_musicais': 17}"
      ]
     },
     "execution_count": 12,
     "metadata": {},
     "output_type": "execute_result"
    }
   ],
   "source": [
    "dict(zip(t, t.cat.codes))"
   ]
  },
  {
   "cell_type": "code",
   "execution_count": 10,
   "metadata": {},
   "outputs": [
    {
     "name": "stderr",
     "output_type": "stream",
     "text": [
      "\r",
      "0it [00:00, ?it/s]\r",
      "3it [00:00, 37.12it/s]\n"
     ]
    }
   ],
   "source": [
    "utils.to_pickles(df_products, '../data/processed/products')"
   ]
  },
  {
   "cell_type": "markdown",
   "metadata": {},
   "source": [
    "## Sellers data\n",
    "\n",
    "* State and city information from customer dataset is re-used here"
   ]
  },
  {
   "cell_type": "code",
   "execution_count": 11,
   "metadata": {},
   "outputs": [
    {
     "name": "stdout",
     "output_type": "stream",
     "text": [
      "Mem. usage decreased to  0.04 Mb (53.1% reduction)\n"
     ]
    }
   ],
   "source": [
    "df_sellers = pd.read_csv(data_dir+filenames[7])\n",
    "\n",
    "df_sellers['seller_city'] = df_sellers['seller_city'].astype('category').map(cust_city)\n",
    "df_sellers['seller_city'].fillna(-1, inplace=True)    ##reuse cat codes from customer info\n",
    "\n",
    "df_sellers['seller_state'] = df_sellers['seller_state'].astype('category').map(cust_state)\n",
    "df_sellers['seller_state'].fillna(-1, inplace=True)   ##reuse cat codes from customer info\n",
    "\n",
    "df_sellers = utils.reduce_mem_usage(df_sellers)"
   ]
  },
  {
   "cell_type": "code",
   "execution_count": 12,
   "metadata": {},
   "outputs": [
    {
     "name": "stderr",
     "output_type": "stream",
     "text": [
      "\r",
      "0it [00:00, ?it/s]\r",
      "3it [00:00, 51.22it/s]\n"
     ]
    }
   ],
   "source": [
    "utils.to_pickles(df_sellers, '../data/processed/sellers')"
   ]
  },
  {
   "cell_type": "code",
   "execution_count": null,
   "metadata": {},
   "outputs": [],
   "source": []
  }
 ],
 "metadata": {
  "kernelspec": {
   "display_name": "Python 3",
   "language": "python",
   "name": "python3"
  },
  "language_info": {
   "codemirror_mode": {
    "name": "ipython",
    "version": 3
   },
   "file_extension": ".py",
   "mimetype": "text/x-python",
   "name": "python",
   "nbconvert_exporter": "python",
   "pygments_lexer": "ipython3",
   "version": "3.6.2"
  }
 },
 "nbformat": 4,
 "nbformat_minor": 2
}
