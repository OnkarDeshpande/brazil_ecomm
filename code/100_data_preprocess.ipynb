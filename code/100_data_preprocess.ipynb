{
 "cells": [
  {
   "cell_type": "code",
   "execution_count": 1,
   "metadata": {},
   "outputs": [],
   "source": [
    "import pandas as pd\n",
    "import numpy as np\n",
    "\n",
    "import os\n",
    "\n",
    "import utils\n",
    "\n",
    "import warnings\n",
    "warnings.filterwarnings('ignore')"
   ]
  },
  {
   "cell_type": "code",
   "execution_count": 2,
   "metadata": {},
   "outputs": [
    {
     "name": "stdout",
     "output_type": "stream",
     "text": [
      "0 olist_customers_dataset.csv\n",
      "1 olist_geolocation_dataset.csv\n",
      "2 olist_orders_dataset.csv\n",
      "3 olist_order_items_dataset.csv\n",
      "4 olist_order_payments_dataset.csv\n",
      "5 olist_order_reviews_dataset.csv\n",
      "6 olist_products_dataset.csv\n",
      "7 olist_sellers_dataset.csv\n",
      "8 processed\n",
      "9 product_category_name_translation.csv\n"
     ]
    }
   ],
   "source": [
    "data_dir = '../data/'\n",
    "filenames = os.listdir(data_dir)\n",
    "for i, ele in enumerate(filenames):\n",
    "    print(i, ele)"
   ]
  },
  {
   "cell_type": "markdown",
   "metadata": {},
   "source": [
    "## Orders data"
   ]
  },
  {
   "cell_type": "code",
   "execution_count": 3,
   "metadata": {},
   "outputs": [
    {
     "name": "stdout",
     "output_type": "stream",
     "text": [
      "Mem. usage decreased to  5.41 Mb (0.0% reduction)\n"
     ]
    }
   ],
   "source": [
    "df_orders = pd.read_csv(data_dir+filenames[2], parse_dates=['order_purchase_timestamp',\n",
    "                                                            'order_approved_at', \n",
    "                                                            'order_delivered_carrier_date',\n",
    "                                                            'order_delivered_customer_date',\n",
    "                                                            'order_estimated_delivery_date'])\n",
    "\n",
    "df_orders['order_status'] = df_orders['order_status'].astype('category').cat.codes.values\n",
    "df_orders = utils.reduce_mem_usage(df_orders)"
   ]
  },
  {
   "cell_type": "code",
   "execution_count": 4,
   "metadata": {},
   "outputs": [
    {
     "name": "stderr",
     "output_type": "stream",
     "text": [
      "\r",
      "0it [00:00, ?it/s]\r",
      "1it [00:00,  2.63it/s]\r",
      "3it [00:00,  6.46it/s]\n"
     ]
    }
   ],
   "source": [
    "utils.to_pickles(df_orders, '../data/processed/orders')"
   ]
  },
  {
   "cell_type": "markdown",
   "metadata": {},
   "source": [
    "## Payments data"
   ]
  },
  {
   "cell_type": "code",
   "execution_count": 5,
   "metadata": {},
   "outputs": [
    {
     "name": "stdout",
     "output_type": "stream",
     "text": [
      "Mem. usage decreased to  1.29 Mb (60.6% reduction)\n"
     ]
    }
   ],
   "source": [
    "df_payments = pd.read_csv(data_dir+filenames[4])\n",
    "\n",
    "df_payments['payment_type'] = df_payments['payment_type'].astype('category').cat.codes.values\n",
    "\n",
    "df_payments = utils.reduce_mem_usage(df_payments)"
   ]
  },
  {
   "cell_type": "code",
   "execution_count": 6,
   "metadata": {},
   "outputs": [
    {
     "name": "stderr",
     "output_type": "stream",
     "text": [
      "\r",
      "0it [00:00, ?it/s]\r",
      "3it [00:00, 30.77it/s]\n"
     ]
    }
   ],
   "source": [
    "utils.to_pickles(df_payments, '../data/processed/payments')"
   ]
  },
  {
   "cell_type": "markdown",
   "metadata": {},
   "source": [
    "## Customers data"
   ]
  },
  {
   "cell_type": "code",
   "execution_count": 7,
   "metadata": {},
   "outputs": [
    {
     "name": "stdout",
     "output_type": "stream",
     "text": [
      "Mem. usage decreased to  3.70 Mb (9.3% reduction)\n"
     ]
    }
   ],
   "source": [
    "df_customers = pd.read_csv(data_dir+filenames[0])\n",
    "\n",
    "df_customers = df_customers.merge(df_orders[['order_id', 'customer_id']], on='customer_id')\n",
    "\n",
    "t = df_customers['customer_state'].astype('category')  ##store the cat codes, use it for seller info\n",
    "cust_state = dict(zip(t, t.cat.codes))\n",
    "\n",
    "t = df_customers['customer_city'].astype('category')  ##store the cat codes, use it for seller info\n",
    "cust_city = dict(zip(t, t.cat.codes))\n",
    "\n",
    "df_customers['customer_state'] = df_customers['customer_state'].astype('category').cat.codes.values\n",
    "df_customers['customer_city'] = df_customers['customer_city'].astype('category').cat.codes.values\n",
    "\n",
    "\n",
    "df_customers = utils.reduce_mem_usage(df_customers)"
   ]
  },
  {
   "cell_type": "code",
   "execution_count": 8,
   "metadata": {},
   "outputs": [
    {
     "name": "stderr",
     "output_type": "stream",
     "text": [
      "\r",
      "0it [00:00, ?it/s]\r",
      "1it [00:00,  5.06it/s]\r",
      "2it [00:00,  6.02it/s]\r",
      "3it [00:00,  6.42it/s]\n"
     ]
    }
   ],
   "source": [
    "utils.to_pickles(df_customers, '../data/processed/customers')"
   ]
  },
  {
   "cell_type": "markdown",
   "metadata": {},
   "source": [
    "## Products data"
   ]
  },
  {
   "cell_type": "code",
   "execution_count": 9,
   "metadata": {},
   "outputs": [
    {
     "name": "stdout",
     "output_type": "stream",
     "text": [
      "Mem. usage decreased to  0.72 Mb (64.6% reduction)\n"
     ]
    }
   ],
   "source": [
    "df_products = pd.read_csv(data_dir+filenames[6])\n",
    "\n",
    "df_products['product_category_name'] = df_products['product_category_name'].astype('category').cat.codes\n",
    "\n",
    "df_products = utils.reduce_mem_usage(df_products)"
   ]
  },
  {
   "cell_type": "code",
   "execution_count": 10,
   "metadata": {},
   "outputs": [
    {
     "name": "stderr",
     "output_type": "stream",
     "text": [
      "\r",
      "0it [00:00, ?it/s]\r",
      "3it [00:00, 37.12it/s]\n"
     ]
    }
   ],
   "source": [
    "utils.to_pickles(df_products, '../data/processed/products')"
   ]
  },
  {
   "cell_type": "markdown",
   "metadata": {},
   "source": [
    "## sellers data"
   ]
  },
  {
   "cell_type": "code",
   "execution_count": 11,
   "metadata": {},
   "outputs": [
    {
     "name": "stdout",
     "output_type": "stream",
     "text": [
      "Mem. usage decreased to  0.04 Mb (53.1% reduction)\n"
     ]
    }
   ],
   "source": [
    "df_sellers = pd.read_csv(data_dir+filenames[7])\n",
    "\n",
    "df_sellers['seller_city'] = df_sellers['seller_city'].astype('category').map(cust_city)\n",
    "df_sellers['seller_city'].fillna(-1, inplace=True)    ##reuse cat codes from customer info\n",
    "\n",
    "df_sellers['seller_state'] = df_sellers['seller_state'].astype('category').map(cust_state)\n",
    "df_sellers['seller_state'].fillna(-1, inplace=True)   ##reuse cat codes from customer info\n",
    "\n",
    "df_sellers = utils.reduce_mem_usage(df_sellers)"
   ]
  },
  {
   "cell_type": "code",
   "execution_count": 12,
   "metadata": {},
   "outputs": [
    {
     "name": "stderr",
     "output_type": "stream",
     "text": [
      "\r",
      "0it [00:00, ?it/s]\r",
      "3it [00:00, 51.22it/s]\n"
     ]
    }
   ],
   "source": [
    "utils.to_pickles(df_sellers, '../data/processed/sellers')"
   ]
  },
  {
   "cell_type": "code",
   "execution_count": null,
   "metadata": {},
   "outputs": [],
   "source": []
  }
 ],
 "metadata": {
  "kernelspec": {
   "display_name": "Python 3",
   "language": "python",
   "name": "python3"
  },
  "language_info": {
   "codemirror_mode": {
    "name": "ipython",
    "version": 3
   },
   "file_extension": ".py",
   "mimetype": "text/x-python",
   "name": "python",
   "nbconvert_exporter": "python",
   "pygments_lexer": "ipython3",
   "version": "3.6.2"
  }
 },
 "nbformat": 4,
 "nbformat_minor": 2
}
