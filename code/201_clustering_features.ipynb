{
 "cells": [
  {
   "cell_type": "code",
   "execution_count": 1,
   "metadata": {},
   "outputs": [],
   "source": [
    "import pandas as pd\n",
    "import numpy as np\n",
    "\n",
    "import os\n",
    "\n",
    "import featuretools as ft\n",
    "\n",
    "import utils\n",
    "\n",
    "import warnings\n",
    "warnings.filterwarnings('ignore')"
   ]
  },
  {
   "cell_type": "code",
   "execution_count": 2,
   "metadata": {},
   "outputs": [
    {
     "name": "stdout",
     "output_type": "stream",
     "text": [
      "0 olist_customers_dataset.csv\n",
      "1 olist_geolocation_dataset.csv\n",
      "2 olist_orders_dataset.csv\n",
      "3 olist_order_items_dataset.csv\n",
      "4 olist_order_payments_dataset.csv\n",
      "5 olist_order_reviews_dataset.csv\n",
      "6 olist_products_dataset.csv\n",
      "7 olist_sellers_dataset.csv\n",
      "8 processed\n",
      "9 product_category_name_translation.csv\n"
     ]
    }
   ],
   "source": [
    "data_dir = '../data/'\n",
    "filenames = os.listdir(data_dir)\n",
    "for i, ele in enumerate(filenames):\n",
    "    print(i, ele)"
   ]
  },
  {
   "cell_type": "markdown",
   "metadata": {},
   "source": [
    "## Reviews data"
   ]
  },
  {
   "cell_type": "code",
   "execution_count": 3,
   "metadata": {},
   "outputs": [],
   "source": [
    "df_reviews = pd.read_csv(data_dir+filenames[5], parse_dates=['review_creation_date', \n",
    "                                                             'review_answer_timestamp'])\n",
    "\n"
   ]
  },
  {
   "cell_type": "code",
   "execution_count": 4,
   "metadata": {},
   "outputs": [
    {
     "data": {
      "text/plain": [
       "(99173, 99441)"
      ]
     },
     "execution_count": 4,
     "metadata": {},
     "output_type": "execute_result"
    }
   ],
   "source": [
    "df_reviews['review_id'].nunique(),df_reviews['order_id'].nunique()"
   ]
  },
  {
   "cell_type": "code",
   "execution_count": 5,
   "metadata": {},
   "outputs": [
    {
     "data": {
      "text/plain": [
       "review_id                   0.000\n",
       "order_id                    0.000\n",
       "review_score                0.000\n",
       "review_comment_title       88.285\n",
       "review_comment_message     58.247\n",
       "review_creation_date        0.000\n",
       "review_answer_timestamp     0.000\n",
       "dtype: float64"
      ]
     },
     "execution_count": 5,
     "metadata": {},
     "output_type": "execute_result"
    }
   ],
   "source": [
    "df_reviews.isna().sum()/df_reviews.shape[0]*100"
   ]
  },
  {
   "cell_type": "markdown",
   "metadata": {},
   "source": [
    "## create features\n",
    "* length of review title\n",
    "* length of review message\n",
    "* words of review message\n",
    "* words of review title\n",
    "* difference between delivery date and review date"
   ]
  },
  {
   "cell_type": "code",
   "execution_count": 6,
   "metadata": {},
   "outputs": [],
   "source": [
    "df_reviews.fillna('', inplace=True)\n",
    "\n",
    "df_reviews['review_comment_length'] = df_reviews['review_comment_message'].apply(len)\n",
    "df_reviews['review_comment_words'] = df_reviews['review_comment_message'].apply(lambda x:len(x.split()))\n",
    "\n",
    "df_reviews['review_title_length'] = df_reviews['review_comment_title'].apply(len)\n",
    "df_reviews['review_title_words'] = df_reviews['review_comment_title'].apply(lambda x:len(x.split()))"
   ]
  },
  {
   "cell_type": "markdown",
   "metadata": {},
   "source": [
    "## Map reviews with orders dataset"
   ]
  },
  {
   "cell_type": "code",
   "execution_count": 7,
   "metadata": {},
   "outputs": [
    {
     "name": "stderr",
     "output_type": "stream",
     "text": [
      "\r",
      "  0%|          | 0/3 [00:00<?, ?it/s]\r",
      " 33%|███▎      | 1/3 [00:00<00:00,  7.06it/s]\r",
      "100%|██████████| 3/3 [00:00<00:00, 12.17it/s]\n"
     ]
    }
   ],
   "source": [
    "df_orders = utils.read_pickles('../data/processed/orders')"
   ]
  },
  {
   "cell_type": "markdown",
   "metadata": {},
   "source": [
    "## Considering only delivered orders without any missing values"
   ]
  },
  {
   "cell_type": "code",
   "execution_count": 8,
   "metadata": {},
   "outputs": [],
   "source": [
    "df_orders = df_orders[df_orders['order_status']==3]\n",
    "# df_orders.isna().sum()\n",
    "df_orders.dropna(inplace=True)"
   ]
  },
  {
   "cell_type": "markdown",
   "metadata": {},
   "source": [
    "## Merge both datasets and build features\n",
    "* Difference in review given and delivery date\n",
    "* Difference in estimated and delivery date\n",
    "* Order month and year"
   ]
  },
  {
   "cell_type": "code",
   "execution_count": 9,
   "metadata": {},
   "outputs": [],
   "source": [
    "df_orders = df_orders.merge(df_reviews[['order_id', 'review_score', 'review_creation_date', \n",
    "                            'review_comment_length', 'review_comment_words']], on='order_id')"
   ]
  },
  {
   "cell_type": "code",
   "execution_count": 10,
   "metadata": {},
   "outputs": [],
   "source": [
    "df_orders['review_delivered_gap'] = (df_orders['review_creation_date'] - \\\n",
    "                        df_orders['order_delivered_customer_date'].dt.date.astype('datetime64[D]')).dt.days\n",
    "\n",
    "\n",
    "df_orders['estimated_delivery_gap'] =(df_orders['order_delivered_customer_date'].dt.date.\\\n",
    "                                      astype('datetime64[D]') -\\\n",
    "                                      df_orders['order_estimated_delivery_date'].dt.date.\\\n",
    "                                      astype('datetime64[D]')).dt.days"
   ]
  },
  {
   "cell_type": "code",
   "execution_count": 11,
   "metadata": {},
   "outputs": [],
   "source": [
    "df_orders['order_year'] = df_orders['order_purchase_timestamp'].dt.year\n",
    "df_orders['order_month'] = df_orders['order_purchase_timestamp'].dt.month\n"
   ]
  },
  {
   "cell_type": "markdown",
   "metadata": {},
   "source": [
    "### Note: order_id is unique to every customer, clustering for customers can be similar to clustering for orders"
   ]
  },
  {
   "cell_type": "code",
   "execution_count": 12,
   "metadata": {},
   "outputs": [
    {
     "data": {
      "text/plain": [
       "(96455, 96455)"
      ]
     },
     "execution_count": 12,
     "metadata": {},
     "output_type": "execute_result"
    }
   ],
   "source": [
    "df_orders['order_id'].nunique(), df_orders['customer_id'].nunique()"
   ]
  },
  {
   "cell_type": "markdown",
   "metadata": {},
   "source": [
    "## Dropping date columns"
   ]
  },
  {
   "cell_type": "code",
   "execution_count": 13,
   "metadata": {},
   "outputs": [],
   "source": [
    "df_orders.drop(['customer_id', 'order_purchase_timestamp','order_approved_at',\n",
    "                'order_delivered_carrier_date','order_delivered_customer_date',\n",
    "                'order_estimated_delivery_date','review_creation_date'], axis=1,inplace=True)\n"
   ]
  },
  {
   "cell_type": "markdown",
   "metadata": {},
   "source": [
    "## Items dataset"
   ]
  },
  {
   "cell_type": "code",
   "execution_count": 14,
   "metadata": {},
   "outputs": [],
   "source": [
    "df_items = pd.read_csv(data_dir+filenames[3], parse_dates=['shipping_limit_date'])"
   ]
  },
  {
   "cell_type": "markdown",
   "metadata": {},
   "source": [
    "## Creating order level features "
   ]
  },
  {
   "cell_type": "code",
   "execution_count": 15,
   "metadata": {},
   "outputs": [],
   "source": [
    "aggs = {'order_item_id':['count', 'sum'],\n",
    "       'product_id':'nunique',\n",
    "       'seller_id':'nunique',\n",
    "       #'shipping_limit_date': ['min', 'max'],  ## not used\n",
    "       'price':['sum', 'mean', 'min', 'max'],\n",
    "       'freight_value':['sum', 'mean', 'min', 'max']}\n",
    "\n",
    "df_items = df_items.groupby('order_id').agg(aggs).reset_index()"
   ]
  },
  {
   "cell_type": "code",
   "execution_count": 16,
   "metadata": {},
   "outputs": [],
   "source": [
    "df_items.columns = ['order_id', 'order_items_counts', 'order_item_sum', 'product_id_count',\n",
    "                    'seller_id_count', #'shipping_min', 'shipping_max', \n",
    "                   'price_sum','price_mean','price_min','price_max',\n",
    "                   'freight_sum','freight_mean','freight_min','freight_max']"
   ]
  },
  {
   "cell_type": "code",
   "execution_count": 17,
   "metadata": {},
   "outputs": [],
   "source": [
    "## merge with order level information\n",
    "df_orders = df_orders.merge(df_items, on='order_id')"
   ]
  },
  {
   "cell_type": "markdown",
   "metadata": {},
   "source": [
    "## Payments data"
   ]
  },
  {
   "cell_type": "code",
   "execution_count": 18,
   "metadata": {},
   "outputs": [
    {
     "name": "stderr",
     "output_type": "stream",
     "text": [
      "\r",
      "  0%|          | 0/3 [00:00<?, ?it/s]\r",
      "100%|██████████| 3/3 [00:00<00:00, 38.11it/s]\n"
     ]
    }
   ],
   "source": [
    "df_payments = utils.read_pickles('../data/processed/payments')"
   ]
  },
  {
   "cell_type": "markdown",
   "metadata": {},
   "source": [
    "## creating order level features"
   ]
  },
  {
   "cell_type": "code",
   "execution_count": 19,
   "metadata": {},
   "outputs": [],
   "source": [
    "aggs = { 'payment_sequential' :['count', 'sum'],\n",
    "        'payment_type':['sum'],\n",
    "        'payment_installments': ['sum'],\n",
    "        'payment_value':['sum','max']    \n",
    "}\n",
    "\n",
    "df_payments = df_payments.groupby('order_id').agg(aggs).reset_index()\n",
    "df_payments.columns = ['order_id', 'payment_sequential_count','payment_sequential_sum', 'payment_type_sum',\n",
    "                       'payment_installments_sum', 'payment_value_sum', 'payment_value_max']\n"
   ]
  },
  {
   "cell_type": "code",
   "execution_count": 20,
   "metadata": {},
   "outputs": [],
   "source": [
    "## merge with order data\n",
    "df_orders = df_orders.merge(df_payments, on='order_id')"
   ]
  },
  {
   "cell_type": "markdown",
   "metadata": {},
   "source": [
    "## Product and seller level information not picked for now"
   ]
  },
  {
   "cell_type": "code",
   "execution_count": 21,
   "metadata": {},
   "outputs": [],
   "source": [
    "# df_products = utils.read_pickles('../data/processed/products')\n",
    "# df_sellers = utils.read_pickles('../data/processed/sellers')"
   ]
  },
  {
   "cell_type": "code",
   "execution_count": 22,
   "metadata": {},
   "outputs": [
    {
     "data": {
      "text/plain": [
       "order_id                     object\n",
       "order_status                   int8\n",
       "review_score                  int64\n",
       "review_comment_length         int64\n",
       "review_comment_words          int64\n",
       "review_delivered_gap          int64\n",
       "estimated_delivery_gap        int64\n",
       "order_year                    int64\n",
       "order_month                   int64\n",
       "order_items_counts            int64\n",
       "order_item_sum                int64\n",
       "product_id_count              int64\n",
       "seller_id_count               int64\n",
       "price_sum                   float64\n",
       "price_mean                  float64\n",
       "price_min                   float64\n",
       "price_max                   float64\n",
       "freight_sum                 float64\n",
       "freight_mean                float64\n",
       "freight_min                 float64\n",
       "freight_max                 float64\n",
       "payment_sequential_count      int64\n",
       "payment_sequential_sum      float64\n",
       "payment_type_sum               int8\n",
       "payment_installments_sum       int8\n",
       "payment_value_sum           float16\n",
       "payment_value_max           float16\n",
       "dtype: object"
      ]
     },
     "execution_count": 22,
     "metadata": {},
     "output_type": "execute_result"
    }
   ],
   "source": [
    "df_orders.dtypes"
   ]
  },
  {
   "cell_type": "code",
   "execution_count": 23,
   "metadata": {},
   "outputs": [
    {
     "name": "stderr",
     "output_type": "stream",
     "text": [
      "\r",
      "0it [00:00, ?it/s]\r",
      "1it [00:00,  4.41it/s]\r",
      "3it [00:00,  8.42it/s]\n"
     ]
    }
   ],
   "source": [
    "utils.to_pickles(df_orders, '../data/processed/cluster_features')"
   ]
  },
  {
   "cell_type": "code",
   "execution_count": null,
   "metadata": {},
   "outputs": [],
   "source": []
  },
  {
   "cell_type": "code",
   "execution_count": null,
   "metadata": {},
   "outputs": [],
   "source": []
  },
  {
   "cell_type": "code",
   "execution_count": null,
   "metadata": {},
   "outputs": [],
   "source": []
  },
  {
   "cell_type": "code",
   "execution_count": null,
   "metadata": {},
   "outputs": [],
   "source": []
  },
  {
   "cell_type": "code",
   "execution_count": null,
   "metadata": {},
   "outputs": [],
   "source": []
  },
  {
   "cell_type": "code",
   "execution_count": null,
   "metadata": {},
   "outputs": [],
   "source": []
  },
  {
   "cell_type": "code",
   "execution_count": null,
   "metadata": {},
   "outputs": [],
   "source": []
  },
  {
   "cell_type": "code",
   "execution_count": null,
   "metadata": {},
   "outputs": [],
   "source": []
  },
  {
   "cell_type": "code",
   "execution_count": null,
   "metadata": {},
   "outputs": [],
   "source": []
  },
  {
   "cell_type": "code",
   "execution_count": null,
   "metadata": {},
   "outputs": [],
   "source": []
  },
  {
   "cell_type": "code",
   "execution_count": null,
   "metadata": {},
   "outputs": [],
   "source": []
  },
  {
   "cell_type": "code",
   "execution_count": null,
   "metadata": {},
   "outputs": [],
   "source": []
  },
  {
   "cell_type": "code",
   "execution_count": null,
   "metadata": {},
   "outputs": [],
   "source": []
  },
  {
   "cell_type": "code",
   "execution_count": null,
   "metadata": {},
   "outputs": [],
   "source": []
  },
  {
   "cell_type": "code",
   "execution_count": null,
   "metadata": {},
   "outputs": [],
   "source": []
  },
  {
   "cell_type": "code",
   "execution_count": null,
   "metadata": {},
   "outputs": [],
   "source": []
  },
  {
   "cell_type": "code",
   "execution_count": null,
   "metadata": {},
   "outputs": [],
   "source": []
  },
  {
   "cell_type": "code",
   "execution_count": null,
   "metadata": {},
   "outputs": [],
   "source": []
  },
  {
   "cell_type": "code",
   "execution_count": null,
   "metadata": {},
   "outputs": [],
   "source": [
    "# Create entityset\n",
    "entity_set = ft.EntitySet(id = 'order_val')\n",
    "\n",
    "# order entity\n",
    "entity_set = entity_set.entity_from_dataframe(\n",
    "    entity_id='orders',\n",
    "    dataframe=df_orders,\n",
    "    index='order_id',\n",
    "    variable_types = {'order_status': ft.variable_types.Categorical}\n",
    ")\n",
    "\n",
    "# item entity\n",
    "entity_set = entity_set.entity_from_dataframe(\n",
    "    entity_id='items',\n",
    "    dataframe=df_items,\n",
    "    make_index=True,\n",
    "    index = 'item_id',\n",
    "    time_index = 'shipping_limit_date'\n",
    ")\n",
    "\n",
    "# payments entity\n",
    "entity_set = entity_set.entity_from_dataframe(\n",
    "    entity_id='payments',\n",
    "    dataframe=df_payments,\n",
    "    make_index=True,\n",
    "    index='payment_id',\n",
    "    variable_types = {'payment_type': ft.variable_types.Categorical}\n",
    ")\n",
    "\n",
    "# customers entity\n",
    "entity_set = entity_set.entity_from_dataframe(\n",
    "    entity_id='customers',\n",
    "    dataframe=df_customers,\n",
    "    index='customer_id',\n",
    "    variable_types = {'customer_city': ft.variable_types.Categorical,\n",
    "                     'customer_state': ft.variable_types.Categorical}\n",
    ")\n",
    "\n",
    "# product entity\n",
    "entity_set = entity_set.entity_from_dataframe(\n",
    "    entity_id='products',\n",
    "    dataframe=df_products,\n",
    "    index='product_id',\n",
    "    variable_types = {'product_category_name': ft.variable_types.Categorical}\n",
    ")\n",
    "\n",
    "# seller entity\n",
    "entity_set = entity_set.entity_from_dataframe(\n",
    "    entity_id='sellers',\n",
    "    dataframe=df_sellers,\n",
    "    index='seller_id',\n",
    "    variable_types = {'seller_city': ft.variable_types.Categorical,\n",
    "                     'seller_state': ft.variable_types.Categorical}\n",
    ")"
   ]
  }
 ],
 "metadata": {
  "kernelspec": {
   "display_name": "Python 3",
   "language": "python",
   "name": "python3"
  },
  "language_info": {
   "codemirror_mode": {
    "name": "ipython",
    "version": 3
   },
   "file_extension": ".py",
   "mimetype": "text/x-python",
   "name": "python",
   "nbconvert_exporter": "python",
   "pygments_lexer": "ipython3",
   "version": "3.6.2"
  }
 },
 "nbformat": 4,
 "nbformat_minor": 2
}
